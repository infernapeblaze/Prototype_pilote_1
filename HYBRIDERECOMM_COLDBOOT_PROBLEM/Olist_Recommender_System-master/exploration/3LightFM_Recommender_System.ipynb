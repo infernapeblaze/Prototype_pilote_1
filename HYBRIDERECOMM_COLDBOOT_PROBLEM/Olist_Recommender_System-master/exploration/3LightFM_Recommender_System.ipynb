{
 "cells": [
  {
   "cell_type": "markdown",
   "metadata": {},
   "source": [
    "# Recommender System with LightFM"
   ]
  },
  {
   "cell_type": "markdown",
   "metadata": {},
   "source": [
    "Our LightFM recommender system should be able to predict customer products based on similarities between other users, features of the items they purchased and information about themselves. Since our dataset is comprised of mostly one time buyers, the primary challenge is to get our recommender to suggest relevent items based on a small pool of data. The hope is that key information about he product and user will improve the results. Our dataset also includes a small number of customers who purchased but never received an item due to delivery issues, we will consider them cold starts and use them to see how our system does without any user history. \n",
    "\n",
    "LightFM requires at minimum, user to product interactions, which makes it capable of handling a basic collaborative recommendation system. We will use this type of model as our baseline for comparison. Following this we will create sparse matrices for user information and product information and test our model while introducing one of these options at a time. This will gradually increase the complexity of the model but will hopefully improve results in turn. \n",
    "\n",
    "A challenge that we face in including user information is that we are only given the users location as information about them. In an attempt to include inferred information about the user we will also attempt to cluster them based on the categories that they purchase. This will be done using unsupervised learning techniques to cluster common features among users. The ideal result would provide a sub-grouping to users for our algorithm to use as part of its user information. The known problem with this approach will be the model overfitting to these results. \n",
    "\n",
    "Our last approach for comparison will be with the PySpark's ALS recommender algorithm. This will be implemented in another notebook and will be tested with the same users to see differences in what is recommended. "
   ]
  },
  {
   "cell_type": "markdown",
   "metadata": {},
   "source": [
    "## Create master df"
   ]
  },
  {
   "cell_type": "code",
   "execution_count": 7,
   "metadata": {},
   "outputs": [],
   "source": [
    "import pandas as pd\n",
    "import numpy as np\n",
    "import matplotlib.pyplot as plt"
   ]
  },
  {
   "cell_type": "code",
   "execution_count": 8,
   "metadata": {},
   "outputs": [],
   "source": [
    "seller_dt_cols = ['shipping_limit_date', 'review_creation_date', 'review_answer_timestamp']\n",
    "customer_dt_cols = ['shipping_limit_date', 'review_creation_date', 'review_answer_timestamp', 'order_purchase_timestamp',\\\n",
    "                'order_delivered_customer_date', 'order_estimated_delivery_date']\n",
    "\n",
    "customers = pd.read_csv('modified_data/customers.csv', \n",
    "                        index_col=0, delimiter = ',', \n",
    "                        parse_dates = customer_dt_cols, \n",
    "                        infer_datetime_format = True, \n",
    "                        low_memory=False)\n",
    "sellers = pd.read_csv('modified_data/sellers.csv', \n",
    "                      index_col=0, delimiter = ',', \n",
    "                      parse_dates = seller_dt_cols, \n",
    "                      infer_datetime_format = True, \n",
    "                      low_memory=False)"
   ]
  },
  {
   "cell_type": "code",
   "execution_count": 9,
   "metadata": {},
   "outputs": [],
   "source": [
    "sellers_selected = sellers[['order_id', 'seller_zip_code_prefix', 'seller_city', 'seller_state']]"
   ]
  },
  {
   "cell_type": "code",
   "execution_count": 10,
   "metadata": {},
   "outputs": [],
   "source": [
    "master_df = customers.merge(sellers_selected, on ='order_id', ).drop(['order_delivered_customer_date', \n",
    "                                                          'order_estimated_delivery_date', 'shipping_limit_date',\n",
    "                                                         'freight_value', 'review_comment_title', 'review_creation_date', \n",
    "                                                          'review_answer_timestamp', 'geolocation_lat', 'geolocation_lng',\n",
    "                                                         'product_name_lenght', 'product_description_lenght', 'product_length_cm',\n",
    "                                                          'product_height_cm', 'product_width_cm', 'review_id'], axis=1)"
   ]
  },
  {
   "cell_type": "code",
   "execution_count": 11,
   "metadata": {
    "scrolled": false
   },
   "outputs": [
    {
     "name": "stdout",
     "output_type": "stream",
     "text": [
      "<class 'pandas.core.frame.DataFrame'>\n",
      "Int64Index: 152810 entries, 0 to 152809\n",
      "Data columns (total 19 columns):\n",
      "order_id                    152810 non-null object\n",
      "customer_id                 152810 non-null object\n",
      "order_purchase_timestamp    152810 non-null datetime64[ns]\n",
      "order_item_id               152810 non-null int64\n",
      "product_id                  152810 non-null object\n",
      "seller_id                   152810 non-null object\n",
      "price                       152810 non-null float64\n",
      "review_score                152810 non-null int64\n",
      "review_comment_message      152810 non-null object\n",
      "customer_unique_id          152810 non-null object\n",
      "customer_zip_code_prefix    152810 non-null int64\n",
      "customer_city               152810 non-null object\n",
      "customer_state              152810 non-null object\n",
      "product_category_name       152810 non-null object\n",
      "product_photos_qty          152810 non-null float64\n",
      "product_weight_g            152810 non-null float64\n",
      "seller_zip_code_prefix      152810 non-null int64\n",
      "seller_city                 152810 non-null object\n",
      "seller_state                152810 non-null object\n",
      "dtypes: datetime64[ns](1), float64(3), int64(4), object(11)\n",
      "memory usage: 23.3+ MB\n"
     ]
    }
   ],
   "source": [
    "master_df.info()"
   ]
  },
  {
   "cell_type": "code",
   "execution_count": 12,
   "metadata": {},
   "outputs": [],
   "source": [
    "master_df.to_csv(r'/Users/mattmerrill/Springboard/Capstone2/olist_datascience/exploration/modified_data/master_df.csv', index=True)"
   ]
  },
  {
   "cell_type": "markdown",
   "metadata": {},
   "source": [
    "### Data preprocessing:"
   ]
  },
  {
   "cell_type": "markdown",
   "metadata": {},
   "source": [
    "**Metadata:**\n",
    "\n",
    "We want to begin by extracting information about each product. More general information will also be required about each product, such as the average review score, the number of messages and number of reviews. This will be done by pulling columns from the master dataframe.\n",
    "\n",
    "Following this we will group the product descriptions into bins to generalize for the model using pandas cut and qcut."
   ]
  },
  {
   "cell_type": "markdown",
   "metadata": {},
   "source": [
    "### Create user-item and item feature dataframes"
   ]
  },
  {
   "cell_type": "code",
   "execution_count": 13,
   "metadata": {},
   "outputs": [],
   "source": [
    "user_item = master_df[['customer_id', 'customer_unique_id', 'product_id', 'review_score', 'order_purchase_timestamp']]\n",
    "user_features = master_df[['customer_unique_id', 'customer_city', 'customer_state']]\n",
    "item_features = master_df[['customer_unique_id','product_id', 'customer_id', 'product_category_name', 'seller_id', 'review_score', \n",
    "                          'review_comment_message', 'seller_city', 'seller_state', 'price', 'order_id', 'order_item_id']]"
   ]
  },
  {
   "cell_type": "code",
   "execution_count": 14,
   "metadata": {},
   "outputs": [],
   "source": [
    "item_features = item_features.drop_duplicates(['customer_id','order_id', 'order_item_id']).reset_index(drop=True)"
   ]
  },
  {
   "cell_type": "markdown",
   "metadata": {},
   "source": [
    "### Create aggregated columns to improve product features"
   ]
  },
  {
   "cell_type": "code",
   "execution_count": 15,
   "metadata": {},
   "outputs": [],
   "source": [
    "# to avoid counting a review comment labeled 'no comment given', we will convert them back to NAN\n",
    "item_features['review_comment_message'] = item_features.review_comment_message\\\n",
    "                                                               .replace('no comment given', np.nan)\n",
    "\n",
    "# create average review score column \n",
    "item_features['avg_product_score'] = item_features['review_score']\\\n",
    "                                                                 .groupby(item_features['product_id'])\\\n",
    "                                                                 .transform('mean')\n",
    "# create average review score column \n",
    "item_features['avg_seller_score'] = item_features['review_score']\\\n",
    "                                                                 .groupby(item_features['seller_id'])\\\n",
    "                                                                 .transform('mean')\n",
    "\n",
    "# create average review score column \n",
    "item_features['num_comments'] = item_features['review_comment_message']\\\n",
    "                                                                       .groupby(item_features['product_id'])\\\n",
    "                                                                       .transform('count')\n",
    "\n",
    "# create average review score column \n",
    "item_features['num_reviews'] = item_features['review_score']\\\n",
    "                                                            .groupby(item_features['product_id'])\\\n",
    "                                                            .transform('count')"
   ]
  },
  {
   "cell_type": "code",
   "execution_count": 16,
   "metadata": {},
   "outputs": [],
   "source": [
    "# create average price column\n",
    "item_features['avg_price'] = item_features[['price']]\\\n",
    "                                                     .groupby(item_features['product_id'])\\\n",
    "                                                     .transform('mean')"
   ]
  },
  {
   "cell_type": "code",
   "execution_count": 17,
   "metadata": {},
   "outputs": [],
   "source": [
    "# Create product_count column for the rating\n",
    "item_features['product_count'] = item_features['product_id']\\\n",
    "                                                            .groupby(item_features['customer_unique_id'])\\\n",
    "                                                            .transform('count')"
   ]
  },
  {
   "cell_type": "markdown",
   "metadata": {},
   "source": [
    "### Transform columns to improve distance based algorithms used in clustering, to be performed in seperate notebook"
   ]
  },
  {
   "cell_type": "code",
   "execution_count": 18,
   "metadata": {},
   "outputs": [],
   "source": [
    "item_features['log_avg_price'] = np.log1p(item_features['avg_price'])"
   ]
  },
  {
   "cell_type": "code",
   "execution_count": 19,
   "metadata": {},
   "outputs": [],
   "source": [
    "item_features['log_num_reviews'] = np.log1p(item_features['num_reviews'])\n",
    "item_features['log_num_comments'] = np.log1p(item_features['num_comments'])"
   ]
  },
  {
   "cell_type": "code",
   "execution_count": 20,
   "metadata": {},
   "outputs": [],
   "source": [
    "# use cut to group the same number of reviews in each section\n",
    "item_features['num_reviews_binned'] = pd.cut(item_features['log_num_reviews'], 7, duplicates = 'drop')\n",
    "item_features['num_comments_binned'] = pd.cut(item_features['log_num_comments'], 6, duplicates = 'drop')\n",
    "\n",
    "# \n",
    "item_features['avg_product_reviews_binned'] = pd.cut(item_features['avg_product_score'], 4, duplicates = 'drop')\n",
    "item_features['avg_seller_reviews_binned'] = pd.cut(item_features['avg_seller_score'], 4, duplicates = 'drop')\n",
    "\n",
    "item_features['avg_price_binned'] = pd.qcut(item_features['avg_price'], 4, duplicates = 'drop')"
   ]
  },
  {
   "cell_type": "code",
   "execution_count": 21,
   "metadata": {},
   "outputs": [],
   "source": [
    "item_features = item_features.sort_values('customer_unique_id').reset_index(drop=True)"
   ]
  },
  {
   "cell_type": "code",
   "execution_count": 22,
   "metadata": {},
   "outputs": [],
   "source": [
    "cols = ['num_reviews_binned', 'num_comments_binned','avg_product_reviews_binned', \n",
    "        'avg_seller_reviews_binned', 'avg_price_binned']\n",
    "for col in cols:\n",
    "    item_features[col] = item_features[col].astype(str)"
   ]
  },
  {
   "cell_type": "code",
   "execution_count": 23,
   "metadata": {
    "scrolled": true
   },
   "outputs": [],
   "source": [
    "# Save item features to csv to be pulled and used in notebook for clustering\n",
    "item_features.to_csv(r'/Users/mattmerrill/Springboard/Capstone2/olist_datascience/exploration/modified_data/item_features.csv', index=True)"
   ]
  },
  {
   "cell_type": "code",
   "execution_count": 24,
   "metadata": {
    "scrolled": true
   },
   "outputs": [
    {
     "data": {
      "text/html": [
       "<div>\n",
       "<style scoped>\n",
       "    .dataframe tbody tr th:only-of-type {\n",
       "        vertical-align: middle;\n",
       "    }\n",
       "\n",
       "    .dataframe tbody tr th {\n",
       "        vertical-align: top;\n",
       "    }\n",
       "\n",
       "    .dataframe thead th {\n",
       "        text-align: right;\n",
       "    }\n",
       "</style>\n",
       "<table border=\"1\" class=\"dataframe\">\n",
       "  <thead>\n",
       "    <tr style=\"text-align: right;\">\n",
       "      <th></th>\n",
       "      <th>customer_unique_id</th>\n",
       "      <th>product_id</th>\n",
       "      <th>customer_id</th>\n",
       "      <th>product_category_name</th>\n",
       "      <th>seller_id</th>\n",
       "      <th>review_score</th>\n",
       "      <th>review_comment_message</th>\n",
       "      <th>seller_city</th>\n",
       "      <th>seller_state</th>\n",
       "      <th>price</th>\n",
       "      <th>...</th>\n",
       "      <th>avg_price</th>\n",
       "      <th>product_count</th>\n",
       "      <th>log_avg_price</th>\n",
       "      <th>log_num_reviews</th>\n",
       "      <th>log_num_comments</th>\n",
       "      <th>num_reviews_binned</th>\n",
       "      <th>num_comments_binned</th>\n",
       "      <th>avg_product_reviews_binned</th>\n",
       "      <th>avg_seller_reviews_binned</th>\n",
       "      <th>avg_price_binned</th>\n",
       "    </tr>\n",
       "  </thead>\n",
       "  <tbody>\n",
       "    <tr>\n",
       "      <td>0</td>\n",
       "      <td>0000366f3b9a7992bf8c76cfdf3221e2</td>\n",
       "      <td>372645c7439f9661fbbacfd129aa92ec</td>\n",
       "      <td>fadbb3709178fc513abc1b2670aa1ad2</td>\n",
       "      <td>bed_bath_table</td>\n",
       "      <td>da8622b14eb17ae2831f4ac5b9dab84a</td>\n",
       "      <td>5</td>\n",
       "      <td>Adorei a cortina, ficou linda na minha sala, e...</td>\n",
       "      <td>piracicaba</td>\n",
       "      <td>SP</td>\n",
       "      <td>129.90</td>\n",
       "      <td>...</td>\n",
       "      <td>109.382759</td>\n",
       "      <td>1</td>\n",
       "      <td>4.703954</td>\n",
       "      <td>3.401197</td>\n",
       "      <td>2.397895</td>\n",
       "      <td>(3.075, 3.87]</td>\n",
       "      <td>(1.824, 2.736]</td>\n",
       "      <td>(4.0, 5.0]</td>\n",
       "      <td>(4.0, 5.0]</td>\n",
       "      <td>(74.9, 135.0]</td>\n",
       "    </tr>\n",
       "    <tr>\n",
       "      <td>1</td>\n",
       "      <td>0000b849f77a49e4a4ce2b2a4ca5be3f</td>\n",
       "      <td>5099f7000472b634fea8304448d20825</td>\n",
       "      <td>4cb282e167ae9234755102258dd52ee8</td>\n",
       "      <td>health_beauty</td>\n",
       "      <td>138dbe45fc62f1e244378131a6801526</td>\n",
       "      <td>4</td>\n",
       "      <td>NaN</td>\n",
       "      <td>sao paulo</td>\n",
       "      <td>SP</td>\n",
       "      <td>18.90</td>\n",
       "      <td>...</td>\n",
       "      <td>19.042857</td>\n",
       "      <td>1</td>\n",
       "      <td>2.997873</td>\n",
       "      <td>2.079442</td>\n",
       "      <td>0.693147</td>\n",
       "      <td>(1.487, 2.281]</td>\n",
       "      <td>(-0.00547, 0.912]</td>\n",
       "      <td>(4.0, 5.0]</td>\n",
       "      <td>(3.0, 4.0]</td>\n",
       "      <td>(0.849, 39.9]</td>\n",
       "    </tr>\n",
       "    <tr>\n",
       "      <td>2</td>\n",
       "      <td>0000f46a3911fa3c0805444483337064</td>\n",
       "      <td>64b488de448a5324c4134ea39c28a34b</td>\n",
       "      <td>9b3932a6253894a02c1df9d19004239f</td>\n",
       "      <td>stationery</td>\n",
       "      <td>3d871de0142ce09b7081e2b9d1733cb1</td>\n",
       "      <td>3</td>\n",
       "      <td>NaN</td>\n",
       "      <td>campo limpo paulista</td>\n",
       "      <td>SP</td>\n",
       "      <td>69.00</td>\n",
       "      <td>...</td>\n",
       "      <td>73.000000</td>\n",
       "      <td>1</td>\n",
       "      <td>4.304065</td>\n",
       "      <td>1.791759</td>\n",
       "      <td>1.098612</td>\n",
       "      <td>(1.487, 2.281]</td>\n",
       "      <td>(0.912, 1.824]</td>\n",
       "      <td>(4.0, 5.0]</td>\n",
       "      <td>(4.0, 5.0]</td>\n",
       "      <td>(39.9, 74.9]</td>\n",
       "    </tr>\n",
       "    <tr>\n",
       "      <td>3</td>\n",
       "      <td>0000f6ccb0745a6a4b88665a16c9f078</td>\n",
       "      <td>2345a354a6f2033609bbf62bf5be9ef6</td>\n",
       "      <td>914991f0c02ef0843c0e7010c819d642</td>\n",
       "      <td>telephony</td>\n",
       "      <td>ef506c96320abeedfb894c34db06f478</td>\n",
       "      <td>4</td>\n",
       "      <td>Bom vendedor</td>\n",
       "      <td>sao paulo</td>\n",
       "      <td>SP</td>\n",
       "      <td>25.99</td>\n",
       "      <td>...</td>\n",
       "      <td>27.990000</td>\n",
       "      <td>1</td>\n",
       "      <td>3.366951</td>\n",
       "      <td>1.386294</td>\n",
       "      <td>1.098612</td>\n",
       "      <td>(0.688, 1.487]</td>\n",
       "      <td>(0.912, 1.824]</td>\n",
       "      <td>(4.0, 5.0]</td>\n",
       "      <td>(3.0, 4.0]</td>\n",
       "      <td>(0.849, 39.9]</td>\n",
       "    </tr>\n",
       "    <tr>\n",
       "      <td>4</td>\n",
       "      <td>0004aac84e0df4da2b147fca70cf8255</td>\n",
       "      <td>c72e18b3fe2739b8d24ebf3102450f37</td>\n",
       "      <td>47227568b10f5f58a524a75507e6992c</td>\n",
       "      <td>telephony</td>\n",
       "      <td>70a12e78e608ac31179aea7f8422044b</td>\n",
       "      <td>5</td>\n",
       "      <td>NaN</td>\n",
       "      <td>jacarei</td>\n",
       "      <td>SP</td>\n",
       "      <td>180.00</td>\n",
       "      <td>...</td>\n",
       "      <td>180.000000</td>\n",
       "      <td>1</td>\n",
       "      <td>5.198497</td>\n",
       "      <td>0.693147</td>\n",
       "      <td>0.000000</td>\n",
       "      <td>(0.688, 1.487]</td>\n",
       "      <td>(-0.00547, 0.912]</td>\n",
       "      <td>(4.0, 5.0]</td>\n",
       "      <td>(3.0, 4.0]</td>\n",
       "      <td>(135.0, 6735.0]</td>\n",
       "    </tr>\n",
       "  </tbody>\n",
       "</table>\n",
       "<p>5 rows × 26 columns</p>\n",
       "</div>"
      ],
      "text/plain": [
       "                 customer_unique_id                        product_id  \\\n",
       "0  0000366f3b9a7992bf8c76cfdf3221e2  372645c7439f9661fbbacfd129aa92ec   \n",
       "1  0000b849f77a49e4a4ce2b2a4ca5be3f  5099f7000472b634fea8304448d20825   \n",
       "2  0000f46a3911fa3c0805444483337064  64b488de448a5324c4134ea39c28a34b   \n",
       "3  0000f6ccb0745a6a4b88665a16c9f078  2345a354a6f2033609bbf62bf5be9ef6   \n",
       "4  0004aac84e0df4da2b147fca70cf8255  c72e18b3fe2739b8d24ebf3102450f37   \n",
       "\n",
       "                        customer_id product_category_name  \\\n",
       "0  fadbb3709178fc513abc1b2670aa1ad2        bed_bath_table   \n",
       "1  4cb282e167ae9234755102258dd52ee8         health_beauty   \n",
       "2  9b3932a6253894a02c1df9d19004239f            stationery   \n",
       "3  914991f0c02ef0843c0e7010c819d642             telephony   \n",
       "4  47227568b10f5f58a524a75507e6992c             telephony   \n",
       "\n",
       "                          seller_id  review_score  \\\n",
       "0  da8622b14eb17ae2831f4ac5b9dab84a             5   \n",
       "1  138dbe45fc62f1e244378131a6801526             4   \n",
       "2  3d871de0142ce09b7081e2b9d1733cb1             3   \n",
       "3  ef506c96320abeedfb894c34db06f478             4   \n",
       "4  70a12e78e608ac31179aea7f8422044b             5   \n",
       "\n",
       "                              review_comment_message           seller_city  \\\n",
       "0  Adorei a cortina, ficou linda na minha sala, e...            piracicaba   \n",
       "1                                                NaN             sao paulo   \n",
       "2                                                NaN  campo limpo paulista   \n",
       "3                                       Bom vendedor             sao paulo   \n",
       "4                                                NaN               jacarei   \n",
       "\n",
       "  seller_state   price  ...   avg_price  product_count  log_avg_price  \\\n",
       "0           SP  129.90  ...  109.382759              1       4.703954   \n",
       "1           SP   18.90  ...   19.042857              1       2.997873   \n",
       "2           SP   69.00  ...   73.000000              1       4.304065   \n",
       "3           SP   25.99  ...   27.990000              1       3.366951   \n",
       "4           SP  180.00  ...  180.000000              1       5.198497   \n",
       "\n",
       "   log_num_reviews  log_num_comments  num_reviews_binned  num_comments_binned  \\\n",
       "0         3.401197          2.397895       (3.075, 3.87]       (1.824, 2.736]   \n",
       "1         2.079442          0.693147      (1.487, 2.281]    (-0.00547, 0.912]   \n",
       "2         1.791759          1.098612      (1.487, 2.281]       (0.912, 1.824]   \n",
       "3         1.386294          1.098612      (0.688, 1.487]       (0.912, 1.824]   \n",
       "4         0.693147          0.000000      (0.688, 1.487]    (-0.00547, 0.912]   \n",
       "\n",
       "   avg_product_reviews_binned  avg_seller_reviews_binned  avg_price_binned  \n",
       "0                  (4.0, 5.0]                 (4.0, 5.0]     (74.9, 135.0]  \n",
       "1                  (4.0, 5.0]                 (3.0, 4.0]     (0.849, 39.9]  \n",
       "2                  (4.0, 5.0]                 (4.0, 5.0]      (39.9, 74.9]  \n",
       "3                  (4.0, 5.0]                 (3.0, 4.0]     (0.849, 39.9]  \n",
       "4                  (4.0, 5.0]                 (3.0, 4.0]   (135.0, 6735.0]  \n",
       "\n",
       "[5 rows x 26 columns]"
      ]
     },
     "execution_count": 24,
     "metadata": {},
     "output_type": "execute_result"
    }
   ],
   "source": [
    "item_features.head()"
   ]
  },
  {
   "cell_type": "markdown",
   "metadata": {},
   "source": [
    "### Functions for creating lists that will later be transformed into sparse matrices"
   ]
  },
  {
   "cell_type": "code",
   "execution_count": 25,
   "metadata": {},
   "outputs": [],
   "source": [
    "def get_user_list(df, user_column):\n",
    "    \"\"\"\n",
    "    \n",
    "    creating a list of user from dataframe df, user_column is a column \n",
    "    consisting of users in the dataframe df\n",
    "    \n",
    "    \"\"\"\n",
    "    \n",
    "    return np.sort(df[user_column].unique())\n",
    "\n",
    "def get_item_list(df, item_name_column):\n",
    "    \n",
    "    \"\"\"\n",
    "    \n",
    "    creating a list of items from dataframe df, item_column is a column \n",
    "    consisting of items in the dataframe df\n",
    "    \n",
    "    return to item_id_list and item_id2name_mapping\n",
    "    \n",
    "    \"\"\"\n",
    "    \n",
    "    item_list = df[item_name_column].unique()\n",
    "    \n",
    "    \n",
    "    return item_list\n",
    "\n",
    "def get_item_feature_list(df, product_category_col, seller_col, seller_rating_col, product_rating_col, \n",
    "                          num_comments, num_reviews, avg_price, seller_city, seller_state):\n",
    "    \n",
    "    categories = df[product_category_col]\n",
    "    sellers = df[seller_col]\n",
    "    seller_ratings = df[seller_rating_col]\n",
    "    product_ratings = df[product_rating_col]\n",
    "    num_product_comments = df[num_comments]\n",
    "    num_product_reviews = df[num_reviews]\n",
    "    avg_product_price = df[avg_price]\n",
    "    seller_city = df[seller_city]\n",
    "    seller_state = df[seller_state]\n",
    "    \n",
    "    return pd.concat([categories, sellers, seller_ratings, product_ratings, num_product_comments, \n",
    "                      num_product_reviews, avg_product_price, seller_city, seller_state], ignore_index = True).unique()\n",
    "\n",
    "def get_user_feature_list(df, cluster_id, customer_state):\n",
    "    \n",
    "    customer_state = df[customer_state]\n",
    "    cluster_id = df[cluster_id]\n",
    "    \n",
    "    return pd.concat([cluster_id, customer_state], ignore_index = True).unique()\n"
   ]
  },
  {
   "cell_type": "markdown",
   "metadata": {},
   "source": [
    "### Add clustered groupings to user_features\n",
    "\n",
    "The results from clustering yeilded 14 groups using Kmeans, which is a distance based algorithm. Algomaritive clustering was also used with ward linkage but this was unsuccesssful as it clustered too aggresively, leaving few groups with one dominating most users. The Kmeans clustering did lead to more groupings but they were more evenly seperated. The commonalities between groups were mainly seen with the types of products purchased. It was able to group together categories such as \"consoles_games\" and \"toys\", and \"housewares\" and \"furniture_decor\". This may provide our recommender with an idea of what products are related and if users are grouped into the same cluster, a recommendation within the cluster might be appropriate. Like was previously mentioned however, this may lead to some overfitting."
   ]
  },
  {
   "cell_type": "code",
   "execution_count": 26,
   "metadata": {},
   "outputs": [],
   "source": [
    "# read in results from clustering\n",
    "item_features_clustered = pd.read_csv('/Users/mattmerrill/Springboard/Capstone2/olist_datascience/exploration/modified_data/item_features_clustered.csv', index_col = 0)"
   ]
  },
  {
   "cell_type": "code",
   "execution_count": 28,
   "metadata": {},
   "outputs": [],
   "source": [
    "# merge with user_features\n",
    "user_features = pd.merge(user_features, item_features_clustered[['customer_unique_id', 'cluster_id']], \n",
    "        on = 'customer_unique_id', \n",
    "        how='left').drop('customer_city', axis=1)"
   ]
  },
  {
   "cell_type": "code",
   "execution_count": 29,
   "metadata": {},
   "outputs": [],
   "source": [
    "# drop duplicates from unaligned rows\n",
    "user_features = user_features.dropna()"
   ]
  },
  {
   "cell_type": "code",
   "execution_count": 30,
   "metadata": {},
   "outputs": [],
   "source": [
    "# create the user, item, feature lists\n",
    "users = get_user_list(user_item, \"customer_unique_id\")\n",
    "items = get_item_list(item_features, \"product_id\")\n",
    "item_features_list = get_item_feature_list(item_features, \"product_category_name\", \"seller_id\", \"avg_seller_reviews_binned\",\n",
    "                                           \"avg_product_reviews_binned\", \"num_comments_binned\", \"num_reviews_binned\", \n",
    "                                           \"avg_price_binned\", \"seller_city\", \"seller_state\")\n",
    "user_features_list = get_user_feature_list(user_features, \"cluster_id\", \"customer_state\")"
   ]
  },
  {
   "cell_type": "code",
   "execution_count": 31,
   "metadata": {
    "scrolled": true
   },
   "outputs": [
    {
     "data": {
      "text/html": [
       "<div>\n",
       "<style scoped>\n",
       "    .dataframe tbody tr th:only-of-type {\n",
       "        vertical-align: middle;\n",
       "    }\n",
       "\n",
       "    .dataframe tbody tr th {\n",
       "        vertical-align: top;\n",
       "    }\n",
       "\n",
       "    .dataframe thead th {\n",
       "        text-align: right;\n",
       "    }\n",
       "</style>\n",
       "<table border=\"1\" class=\"dataframe\">\n",
       "  <thead>\n",
       "    <tr style=\"text-align: right;\">\n",
       "      <th></th>\n",
       "      <th>customer_unique_id</th>\n",
       "      <th>customer_id</th>\n",
       "      <th>product_id</th>\n",
       "      <th>order_id</th>\n",
       "      <th>product_category_name</th>\n",
       "      <th>order_item_id</th>\n",
       "      <th>seller_id</th>\n",
       "      <th>review_score</th>\n",
       "      <th>review_comment_message</th>\n",
       "      <th>seller_city</th>\n",
       "      <th>seller_state</th>\n",
       "      <th>price</th>\n",
       "      <th>product_category_count</th>\n",
       "      <th>cluster_id</th>\n",
       "      <th>cluster_id_2</th>\n",
       "    </tr>\n",
       "  </thead>\n",
       "  <tbody>\n",
       "    <tr>\n",
       "      <td>0</td>\n",
       "      <td>7c396fd4830fd04220f754e42b4e5bff</td>\n",
       "      <td>9ef432eb6251297304e76186b10a928d</td>\n",
       "      <td>87285b34884572647811a353c7ac498a</td>\n",
       "      <td>e481f51cbdc54678b7cc49136f2d6af7</td>\n",
       "      <td>housewares</td>\n",
       "      <td>1</td>\n",
       "      <td>3504c0cb71d7fa48d967e0e4c94d59d9</td>\n",
       "      <td>4</td>\n",
       "      <td>Não testei o produto ainda, mas ele veio corre...</td>\n",
       "      <td>maua</td>\n",
       "      <td>SP</td>\n",
       "      <td>29.99</td>\n",
       "      <td>1</td>\n",
       "      <td>12</td>\n",
       "      <td>0</td>\n",
       "    </tr>\n",
       "    <tr>\n",
       "      <td>1</td>\n",
       "      <td>7c396fd4830fd04220f754e42b4e5bff</td>\n",
       "      <td>31f31efcb333fcbad2b1371c8cf0fa84</td>\n",
       "      <td>9abb00920aae319ef9eba674b7d2e6ff</td>\n",
       "      <td>69923a4e07ce446644394df37a710286</td>\n",
       "      <td>baby</td>\n",
       "      <td>1</td>\n",
       "      <td>1771297ac436903d1dd6b0e9279aa505</td>\n",
       "      <td>5</td>\n",
       "      <td>O produto está ok e foi entregue bem antes do ...</td>\n",
       "      <td>guarulhos</td>\n",
       "      <td>SP</td>\n",
       "      <td>35.39</td>\n",
       "      <td>1</td>\n",
       "      <td>12</td>\n",
       "      <td>0</td>\n",
       "    </tr>\n",
       "    <tr>\n",
       "      <td>2</td>\n",
       "      <td>e781fdcc107d13d865fc7698711cc572</td>\n",
       "      <td>53904ddbea91e1e92b2b3f1d09a7af86</td>\n",
       "      <td>87285b34884572647811a353c7ac498a</td>\n",
       "      <td>bfc39df4f36c3693ff3b63fcbea9e90a</td>\n",
       "      <td>housewares</td>\n",
       "      <td>1</td>\n",
       "      <td>3504c0cb71d7fa48d967e0e4c94d59d9</td>\n",
       "      <td>3</td>\n",
       "      <td>no comment given</td>\n",
       "      <td>maua</td>\n",
       "      <td>SP</td>\n",
       "      <td>29.99</td>\n",
       "      <td>1</td>\n",
       "      <td>3</td>\n",
       "      <td>0</td>\n",
       "    </tr>\n",
       "    <tr>\n",
       "      <td>3</td>\n",
       "      <td>3a51803cc0d012c3b5dc8b7528cb05f7</td>\n",
       "      <td>a20e8105f23924cd00833fd87daa0831</td>\n",
       "      <td>87285b34884572647811a353c7ac498a</td>\n",
       "      <td>128e10d95713541c87cd1a2e48201934</td>\n",
       "      <td>housewares</td>\n",
       "      <td>1</td>\n",
       "      <td>3504c0cb71d7fa48d967e0e4c94d59d9</td>\n",
       "      <td>4</td>\n",
       "      <td>Deveriam embalar melhor o produto. A caixa vei...</td>\n",
       "      <td>maua</td>\n",
       "      <td>SP</td>\n",
       "      <td>29.99</td>\n",
       "      <td>1</td>\n",
       "      <td>3</td>\n",
       "      <td>0</td>\n",
       "    </tr>\n",
       "    <tr>\n",
       "      <td>4</td>\n",
       "      <td>ef0996a1a279c26e7ecbd737be23d235</td>\n",
       "      <td>26c7ac168e1433912a51b924fbd34d34</td>\n",
       "      <td>87285b34884572647811a353c7ac498a</td>\n",
       "      <td>0e7e841ddf8f8f2de2bad69267ecfbcf</td>\n",
       "      <td>housewares</td>\n",
       "      <td>1</td>\n",
       "      <td>3504c0cb71d7fa48d967e0e4c94d59d9</td>\n",
       "      <td>5</td>\n",
       "      <td>Só achei ela pequena pra seis xícaras ,mais é ...</td>\n",
       "      <td>maua</td>\n",
       "      <td>SP</td>\n",
       "      <td>29.99</td>\n",
       "      <td>1</td>\n",
       "      <td>3</td>\n",
       "      <td>0</td>\n",
       "    </tr>\n",
       "  </tbody>\n",
       "</table>\n",
       "</div>"
      ],
      "text/plain": [
       "                 customer_unique_id                       customer_id  \\\n",
       "0  7c396fd4830fd04220f754e42b4e5bff  9ef432eb6251297304e76186b10a928d   \n",
       "1  7c396fd4830fd04220f754e42b4e5bff  31f31efcb333fcbad2b1371c8cf0fa84   \n",
       "2  e781fdcc107d13d865fc7698711cc572  53904ddbea91e1e92b2b3f1d09a7af86   \n",
       "3  3a51803cc0d012c3b5dc8b7528cb05f7  a20e8105f23924cd00833fd87daa0831   \n",
       "4  ef0996a1a279c26e7ecbd737be23d235  26c7ac168e1433912a51b924fbd34d34   \n",
       "\n",
       "                         product_id                          order_id  \\\n",
       "0  87285b34884572647811a353c7ac498a  e481f51cbdc54678b7cc49136f2d6af7   \n",
       "1  9abb00920aae319ef9eba674b7d2e6ff  69923a4e07ce446644394df37a710286   \n",
       "2  87285b34884572647811a353c7ac498a  bfc39df4f36c3693ff3b63fcbea9e90a   \n",
       "3  87285b34884572647811a353c7ac498a  128e10d95713541c87cd1a2e48201934   \n",
       "4  87285b34884572647811a353c7ac498a  0e7e841ddf8f8f2de2bad69267ecfbcf   \n",
       "\n",
       "  product_category_name  order_item_id                         seller_id  \\\n",
       "0            housewares              1  3504c0cb71d7fa48d967e0e4c94d59d9   \n",
       "1                  baby              1  1771297ac436903d1dd6b0e9279aa505   \n",
       "2            housewares              1  3504c0cb71d7fa48d967e0e4c94d59d9   \n",
       "3            housewares              1  3504c0cb71d7fa48d967e0e4c94d59d9   \n",
       "4            housewares              1  3504c0cb71d7fa48d967e0e4c94d59d9   \n",
       "\n",
       "   review_score                             review_comment_message  \\\n",
       "0             4  Não testei o produto ainda, mas ele veio corre...   \n",
       "1             5  O produto está ok e foi entregue bem antes do ...   \n",
       "2             3                                   no comment given   \n",
       "3             4  Deveriam embalar melhor o produto. A caixa vei...   \n",
       "4             5  Só achei ela pequena pra seis xícaras ,mais é ...   \n",
       "\n",
       "  seller_city seller_state  price  product_category_count  cluster_id  \\\n",
       "0        maua           SP  29.99                       1          12   \n",
       "1   guarulhos           SP  35.39                       1          12   \n",
       "2        maua           SP  29.99                       1           3   \n",
       "3        maua           SP  29.99                       1           3   \n",
       "4        maua           SP  29.99                       1           3   \n",
       "\n",
       "   cluster_id_2  \n",
       "0             0  \n",
       "1             0  \n",
       "2             0  \n",
       "3             0  \n",
       "4             0  "
      ]
     },
     "execution_count": 31,
     "metadata": {},
     "output_type": "execute_result"
    }
   ],
   "source": [
    "item_features_clustered.head()"
   ]
  },
  {
   "cell_type": "markdown",
   "metadata": {},
   "source": [
    "### Id-mapping function for converting string id into numeric for products, customers and features"
   ]
  },
  {
   "cell_type": "code",
   "execution_count": 32,
   "metadata": {},
   "outputs": [],
   "source": [
    "def id_mappings(user_list, item_list, item_feature_list, user_feature_list):\n",
    "    \"\"\"\n",
    "    \n",
    "    Create id mappings to convert user_id, item_id, and feature_id\n",
    "    \n",
    "    \"\"\"\n",
    "    user_to_index_mapping = {}\n",
    "    index_to_user_mapping = {}\n",
    "    for user_index, user_id in enumerate(user_list):\n",
    "        user_to_index_mapping[user_id] = user_index\n",
    "        index_to_user_mapping[user_index] = user_id\n",
    "        \n",
    "    item_to_index_mapping = {}\n",
    "    index_to_item_mapping = {}\n",
    "    for item_index, item_id in enumerate(item_list):\n",
    "        item_to_index_mapping[item_id] = item_index\n",
    "        index_to_item_mapping[item_index] = item_id\n",
    "        \n",
    "    item_feature_to_index_mapping = {}\n",
    "    index_to_item_feature_mapping = {}\n",
    "    for item_feature_index, item_feature_id in enumerate(item_feature_list):\n",
    "        item_feature_to_index_mapping[item_feature_id] = item_feature_index\n",
    "        index_to_item_feature_mapping[item_feature_index] = item_feature_id\n",
    "\n",
    "    user_feature_to_index_mapping = {}\n",
    "    index_to_user_feature_mapping = {}\n",
    "    for user_feature_index, user_feature_id in enumerate(user_feature_list):\n",
    "        user_feature_to_index_mapping[user_feature_id] = user_feature_index\n",
    "        index_to_user_feature_mapping[user_feature_index] = user_feature_id\n",
    "        \n",
    "        \n",
    "    return user_to_index_mapping, index_to_user_mapping, \\\n",
    "           item_to_index_mapping, index_to_item_mapping, \\\n",
    "           item_feature_to_index_mapping, index_to_item_feature_mapping, \\\n",
    "           user_feature_to_index_mapping, index_to_user_feature_mapping"
   ]
  },
  {
   "cell_type": "markdown",
   "metadata": {},
   "source": [
    "__Items dictionary__\n",
    "\n",
    "This df will be used to associate each product with it's corresponding features. This will be used to to improve the output of the recommender system, which will produce a recommended product_id (specifying a specific product) with it's corresponding product category."
   ]
  },
  {
   "cell_type": "code",
   "execution_count": 33,
   "metadata": {},
   "outputs": [],
   "source": [
    "# generate mapping, LightFM library can't read other than (integer) index\n",
    "user_to_index_mapping, index_to_user_mapping, \\\n",
    "           item_to_index_mapping, index_to_item_mapping, \\\n",
    "           item_feature_to_index_mapping, index_to_item_feature_mapping, \\\n",
    "           user_feature_to_index_mapping, index_to_user_feature_mapping = id_mappings(users, items, item_features_list, \n",
    "                                                                            user_features_list)"
   ]
  },
  {
   "cell_type": "code",
   "execution_count": 34,
   "metadata": {},
   "outputs": [],
   "source": [
    "# df of product features\n",
    "product_to_feature = item_features[['product_id', 'product_category_name', 'seller_id', 'num_reviews_binned', \n",
    "                                    'num_comments_binned', 'avg_product_reviews_binned', 'avg_seller_reviews_binned',\n",
    "                                    'avg_price_binned', 'seller_city', 'seller_state']]\n",
    "product_to_feature = product_to_feature.drop_duplicates('product_id').reset_index(drop=True)"
   ]
  },
  {
   "cell_type": "code",
   "execution_count": 35,
   "metadata": {},
   "outputs": [],
   "source": [
    "# user rating df based on number of purchases\n",
    "user_to_product_rating = item_features[['customer_unique_id', 'product_id', 'product_count']]\n",
    "user_to_product_rating = user_to_product_rating.sort_values(by='customer_unique_id').reset_index(drop=True)"
   ]
  },
  {
   "cell_type": "markdown",
   "metadata": {},
   "source": [
    "__Train, test split__"
   ]
  },
  {
   "cell_type": "code",
   "execution_count": 36,
   "metadata": {},
   "outputs": [],
   "source": [
    "import random\n",
    "np.random.seed(31)\n",
    "\n",
    "rows = np.random.binomial(1, .8, size=len(user_to_product_rating)).astype('bool')\n",
    "\n",
    "user_to_product_rating_train = user_to_product_rating[rows].reset_index(drop=True)\n",
    "user_to_product_rating_test = user_to_product_rating[~rows].reset_index(drop=True)"
   ]
  },
  {
   "cell_type": "markdown",
   "metadata": {},
   "source": [
    "__Product-feature interactions df:__\n",
    "\n",
    "We want to now create a dataframe that describes the relationship between product and features."
   ]
  },
  {
   "cell_type": "code",
   "execution_count": 37,
   "metadata": {},
   "outputs": [],
   "source": [
    "# Transpose product_to_feature to extract features for each product_id\n",
    "df = product_to_feature.set_index('product_id').T.reset_index(drop=True)"
   ]
  },
  {
   "cell_type": "code",
   "execution_count": 38,
   "metadata": {},
   "outputs": [],
   "source": [
    "# Need to create list of product_id's repeated 6 times for each feauture the resulting df will hold\n",
    "cols = list(df.columns)\n",
    "res =  [ele for ele in cols for i in range(len(product_to_feature.columns) - 1)]"
   ]
  },
  {
   "cell_type": "code",
   "execution_count": 39,
   "metadata": {},
   "outputs": [],
   "source": [
    "# Create empty dataframe with index as product_id\n",
    "features = pd.DataFrame(index = res)\n",
    "features.index.name = 'product_id'\n",
    "\n",
    "# Reset index so 'product_id' becomes column\n",
    "features = features.reset_index()\n",
    "\n",
    "# create empty column to fill\n",
    "features['feature'] = \"\""
   ]
  },
  {
   "cell_type": "code",
   "execution_count": 40,
   "metadata": {},
   "outputs": [],
   "source": [
    "# Create list of feature items to replace empty column\n",
    "feature_items = []\n",
    "for col in cols:\n",
    "    for i in range(len(product_to_feature.columns) - 1):\n",
    "        feature_items.append(df[col][i])"
   ]
  },
  {
   "cell_type": "code",
   "execution_count": 41,
   "metadata": {},
   "outputs": [],
   "source": [
    "# set column to list created for each users features\n",
    "features['feature'] = feature_items\n",
    "\n",
    "# change name back to product_to_feature\n",
    "product_to_feature = features\n",
    "\n",
    "# add column with all ones for sparse matrix\n",
    "product_to_feature['feature_count'] = 1"
   ]
  },
  {
   "cell_type": "code",
   "execution_count": 42,
   "metadata": {},
   "outputs": [
    {
     "data": {
      "text/html": [
       "<div>\n",
       "<style scoped>\n",
       "    .dataframe tbody tr th:only-of-type {\n",
       "        vertical-align: middle;\n",
       "    }\n",
       "\n",
       "    .dataframe tbody tr th {\n",
       "        vertical-align: top;\n",
       "    }\n",
       "\n",
       "    .dataframe thead th {\n",
       "        text-align: right;\n",
       "    }\n",
       "</style>\n",
       "<table border=\"1\" class=\"dataframe\">\n",
       "  <thead>\n",
       "    <tr style=\"text-align: right;\">\n",
       "      <th></th>\n",
       "      <th>product_id</th>\n",
       "      <th>feature</th>\n",
       "      <th>feature_count</th>\n",
       "    </tr>\n",
       "  </thead>\n",
       "  <tbody>\n",
       "    <tr>\n",
       "      <td>0</td>\n",
       "      <td>372645c7439f9661fbbacfd129aa92ec</td>\n",
       "      <td>bed_bath_table</td>\n",
       "      <td>1</td>\n",
       "    </tr>\n",
       "    <tr>\n",
       "      <td>1</td>\n",
       "      <td>372645c7439f9661fbbacfd129aa92ec</td>\n",
       "      <td>da8622b14eb17ae2831f4ac5b9dab84a</td>\n",
       "      <td>1</td>\n",
       "    </tr>\n",
       "    <tr>\n",
       "      <td>2</td>\n",
       "      <td>372645c7439f9661fbbacfd129aa92ec</td>\n",
       "      <td>(3.075, 3.87]</td>\n",
       "      <td>1</td>\n",
       "    </tr>\n",
       "    <tr>\n",
       "      <td>3</td>\n",
       "      <td>372645c7439f9661fbbacfd129aa92ec</td>\n",
       "      <td>(1.824, 2.736]</td>\n",
       "      <td>1</td>\n",
       "    </tr>\n",
       "    <tr>\n",
       "      <td>4</td>\n",
       "      <td>372645c7439f9661fbbacfd129aa92ec</td>\n",
       "      <td>(4.0, 5.0]</td>\n",
       "      <td>1</td>\n",
       "    </tr>\n",
       "    <tr>\n",
       "      <td>5</td>\n",
       "      <td>372645c7439f9661fbbacfd129aa92ec</td>\n",
       "      <td>(4.0, 5.0]</td>\n",
       "      <td>1</td>\n",
       "    </tr>\n",
       "    <tr>\n",
       "      <td>6</td>\n",
       "      <td>372645c7439f9661fbbacfd129aa92ec</td>\n",
       "      <td>(74.9, 135.0]</td>\n",
       "      <td>1</td>\n",
       "    </tr>\n",
       "    <tr>\n",
       "      <td>7</td>\n",
       "      <td>372645c7439f9661fbbacfd129aa92ec</td>\n",
       "      <td>piracicaba</td>\n",
       "      <td>1</td>\n",
       "    </tr>\n",
       "    <tr>\n",
       "      <td>8</td>\n",
       "      <td>372645c7439f9661fbbacfd129aa92ec</td>\n",
       "      <td>SP</td>\n",
       "      <td>1</td>\n",
       "    </tr>\n",
       "    <tr>\n",
       "      <td>9</td>\n",
       "      <td>5099f7000472b634fea8304448d20825</td>\n",
       "      <td>health_beauty</td>\n",
       "      <td>1</td>\n",
       "    </tr>\n",
       "  </tbody>\n",
       "</table>\n",
       "</div>"
      ],
      "text/plain": [
       "                         product_id                           feature  \\\n",
       "0  372645c7439f9661fbbacfd129aa92ec                    bed_bath_table   \n",
       "1  372645c7439f9661fbbacfd129aa92ec  da8622b14eb17ae2831f4ac5b9dab84a   \n",
       "2  372645c7439f9661fbbacfd129aa92ec                     (3.075, 3.87]   \n",
       "3  372645c7439f9661fbbacfd129aa92ec                    (1.824, 2.736]   \n",
       "4  372645c7439f9661fbbacfd129aa92ec                        (4.0, 5.0]   \n",
       "5  372645c7439f9661fbbacfd129aa92ec                        (4.0, 5.0]   \n",
       "6  372645c7439f9661fbbacfd129aa92ec                     (74.9, 135.0]   \n",
       "7  372645c7439f9661fbbacfd129aa92ec                        piracicaba   \n",
       "8  372645c7439f9661fbbacfd129aa92ec                                SP   \n",
       "9  5099f7000472b634fea8304448d20825                     health_beauty   \n",
       "\n",
       "   feature_count  \n",
       "0              1  \n",
       "1              1  \n",
       "2              1  \n",
       "3              1  \n",
       "4              1  \n",
       "5              1  \n",
       "6              1  \n",
       "7              1  \n",
       "8              1  \n",
       "9              1  "
      ]
     },
     "execution_count": 42,
     "metadata": {},
     "output_type": "execute_result"
    }
   ],
   "source": [
    "product_to_feature.head(10)"
   ]
  },
  {
   "cell_type": "markdown",
   "metadata": {},
   "source": [
    "__User-feature interaction df__"
   ]
  },
  {
   "cell_type": "code",
   "execution_count": 43,
   "metadata": {},
   "outputs": [],
   "source": [
    "user_to_feature = user_features.drop_duplicates('customer_unique_id').reset_index(drop=True)"
   ]
  },
  {
   "cell_type": "code",
   "execution_count": 44,
   "metadata": {},
   "outputs": [],
   "source": [
    "# Transpose product_to_feature to extract features for each customer\n",
    "df = user_to_feature.set_index('customer_unique_id').T.reset_index(drop=True)"
   ]
  },
  {
   "cell_type": "code",
   "execution_count": 45,
   "metadata": {},
   "outputs": [
    {
     "data": {
      "text/html": [
       "<div>\n",
       "<style scoped>\n",
       "    .dataframe tbody tr th:only-of-type {\n",
       "        vertical-align: middle;\n",
       "    }\n",
       "\n",
       "    .dataframe tbody tr th {\n",
       "        vertical-align: top;\n",
       "    }\n",
       "\n",
       "    .dataframe thead th {\n",
       "        text-align: right;\n",
       "    }\n",
       "</style>\n",
       "<table border=\"1\" class=\"dataframe\">\n",
       "  <thead>\n",
       "    <tr style=\"text-align: right;\">\n",
       "      <th>customer_unique_id</th>\n",
       "      <th>7c396fd4830fd04220f754e42b4e5bff</th>\n",
       "      <th>e781fdcc107d13d865fc7698711cc572</th>\n",
       "      <th>3a51803cc0d012c3b5dc8b7528cb05f7</th>\n",
       "      <th>ef0996a1a279c26e7ecbd737be23d235</th>\n",
       "      <th>8a4002923e801e3120a11070fd31c9e2</th>\n",
       "      <th>0cad1c6c08ef74b3ae7818514c158258</th>\n",
       "      <th>eb5c27c09badfe9c053416ca5c3c7c35</th>\n",
       "      <th>6eff1cd9cc7f4dde6e1cbb679e219a50</th>\n",
       "      <th>cc3f5d537772957f90b7f15f1fb70316</th>\n",
       "      <th>87c9eb971f4cfcbefa08cb27b21bc9a7</th>\n",
       "      <th>...</th>\n",
       "      <th>6d1b4e0269ddf214a835aef2cfc23158</th>\n",
       "      <th>17cb19c8526583b203e7a3a6c828d3aa</th>\n",
       "      <th>7ce47ba6982b3ce9bee72ab948481f9e</th>\n",
       "      <th>f9ccc64481a04c1a9886994895b97f03</th>\n",
       "      <th>f5138d94d7e1085c5219408f32b62529</th>\n",
       "      <th>8b8c8f067a3faaf116211277147a88de</th>\n",
       "      <th>1ef6a1d949703afd7a74347aed3b0503</th>\n",
       "      <th>ebc6df639d125e446f07c0e9b1e47b90</th>\n",
       "      <th>ed81a42bec90c87578108d2e4c742d20</th>\n",
       "      <th>a49e8e11e850592fe685ae3c64b40eca</th>\n",
       "    </tr>\n",
       "  </thead>\n",
       "  <tbody>\n",
       "    <tr>\n",
       "      <td>0</td>\n",
       "      <td>SP</td>\n",
       "      <td>SC</td>\n",
       "      <td>SP</td>\n",
       "      <td>SP</td>\n",
       "      <td>SP</td>\n",
       "      <td>SP</td>\n",
       "      <td>SP</td>\n",
       "      <td>RJ</td>\n",
       "      <td>SP</td>\n",
       "      <td>SP</td>\n",
       "      <td>...</td>\n",
       "      <td>SC</td>\n",
       "      <td>PE</td>\n",
       "      <td>RS</td>\n",
       "      <td>PB</td>\n",
       "      <td>SP</td>\n",
       "      <td>MG</td>\n",
       "      <td>TO</td>\n",
       "      <td>MG</td>\n",
       "      <td>BA</td>\n",
       "      <td>PR</td>\n",
       "    </tr>\n",
       "    <tr>\n",
       "      <td>1</td>\n",
       "      <td>12</td>\n",
       "      <td>3</td>\n",
       "      <td>3</td>\n",
       "      <td>3</td>\n",
       "      <td>2</td>\n",
       "      <td>2</td>\n",
       "      <td>2</td>\n",
       "      <td>2</td>\n",
       "      <td>2</td>\n",
       "      <td>2</td>\n",
       "      <td>...</td>\n",
       "      <td>14</td>\n",
       "      <td>4</td>\n",
       "      <td>7</td>\n",
       "      <td>7</td>\n",
       "      <td>3</td>\n",
       "      <td>9</td>\n",
       "      <td>14</td>\n",
       "      <td>13</td>\n",
       "      <td>7</td>\n",
       "      <td>0</td>\n",
       "    </tr>\n",
       "  </tbody>\n",
       "</table>\n",
       "<p>2 rows × 91608 columns</p>\n",
       "</div>"
      ],
      "text/plain": [
       "customer_unique_id 7c396fd4830fd04220f754e42b4e5bff  \\\n",
       "0                                                SP   \n",
       "1                                                12   \n",
       "\n",
       "customer_unique_id e781fdcc107d13d865fc7698711cc572  \\\n",
       "0                                                SC   \n",
       "1                                                 3   \n",
       "\n",
       "customer_unique_id 3a51803cc0d012c3b5dc8b7528cb05f7  \\\n",
       "0                                                SP   \n",
       "1                                                 3   \n",
       "\n",
       "customer_unique_id ef0996a1a279c26e7ecbd737be23d235  \\\n",
       "0                                                SP   \n",
       "1                                                 3   \n",
       "\n",
       "customer_unique_id 8a4002923e801e3120a11070fd31c9e2  \\\n",
       "0                                                SP   \n",
       "1                                                 2   \n",
       "\n",
       "customer_unique_id 0cad1c6c08ef74b3ae7818514c158258  \\\n",
       "0                                                SP   \n",
       "1                                                 2   \n",
       "\n",
       "customer_unique_id eb5c27c09badfe9c053416ca5c3c7c35  \\\n",
       "0                                                SP   \n",
       "1                                                 2   \n",
       "\n",
       "customer_unique_id 6eff1cd9cc7f4dde6e1cbb679e219a50  \\\n",
       "0                                                RJ   \n",
       "1                                                 2   \n",
       "\n",
       "customer_unique_id cc3f5d537772957f90b7f15f1fb70316  \\\n",
       "0                                                SP   \n",
       "1                                                 2   \n",
       "\n",
       "customer_unique_id 87c9eb971f4cfcbefa08cb27b21bc9a7  ...  \\\n",
       "0                                                SP  ...   \n",
       "1                                                 2  ...   \n",
       "\n",
       "customer_unique_id 6d1b4e0269ddf214a835aef2cfc23158  \\\n",
       "0                                                SC   \n",
       "1                                                14   \n",
       "\n",
       "customer_unique_id 17cb19c8526583b203e7a3a6c828d3aa  \\\n",
       "0                                                PE   \n",
       "1                                                 4   \n",
       "\n",
       "customer_unique_id 7ce47ba6982b3ce9bee72ab948481f9e  \\\n",
       "0                                                RS   \n",
       "1                                                 7   \n",
       "\n",
       "customer_unique_id f9ccc64481a04c1a9886994895b97f03  \\\n",
       "0                                                PB   \n",
       "1                                                 7   \n",
       "\n",
       "customer_unique_id f5138d94d7e1085c5219408f32b62529  \\\n",
       "0                                                SP   \n",
       "1                                                 3   \n",
       "\n",
       "customer_unique_id 8b8c8f067a3faaf116211277147a88de  \\\n",
       "0                                                MG   \n",
       "1                                                 9   \n",
       "\n",
       "customer_unique_id 1ef6a1d949703afd7a74347aed3b0503  \\\n",
       "0                                                TO   \n",
       "1                                                14   \n",
       "\n",
       "customer_unique_id ebc6df639d125e446f07c0e9b1e47b90  \\\n",
       "0                                                MG   \n",
       "1                                                13   \n",
       "\n",
       "customer_unique_id ed81a42bec90c87578108d2e4c742d20  \\\n",
       "0                                                BA   \n",
       "1                                                 7   \n",
       "\n",
       "customer_unique_id a49e8e11e850592fe685ae3c64b40eca  \n",
       "0                                                PR  \n",
       "1                                                 0  \n",
       "\n",
       "[2 rows x 91608 columns]"
      ]
     },
     "execution_count": 45,
     "metadata": {},
     "output_type": "execute_result"
    }
   ],
   "source": [
    "df.head()"
   ]
  },
  {
   "cell_type": "code",
   "execution_count": 46,
   "metadata": {},
   "outputs": [],
   "source": [
    "# Need to create list of product_id's repeated 6 times for each feauture the resulting df will hold\n",
    "cols = list(df.columns)\n",
    "res =  [ele for ele in cols for i in range(len(user_to_feature.columns)-1)]"
   ]
  },
  {
   "cell_type": "code",
   "execution_count": 47,
   "metadata": {},
   "outputs": [],
   "source": [
    "# Create empty dataframe with index as product_id\n",
    "user_feature = pd.DataFrame(index = res)\n",
    "user_feature.index.name = 'customer_unique_id'\n",
    "\n",
    "# Reset index so 'product_id' becomes column\n",
    "user_feature = user_feature.reset_index()\n",
    "\n",
    "# create empty column to fill\n",
    "user_feature['feature'] = \"\""
   ]
  },
  {
   "cell_type": "code",
   "execution_count": 48,
   "metadata": {},
   "outputs": [],
   "source": [
    "# Create list of feature items to replace empty column\n",
    "feature_items = []\n",
    "for col in cols:\n",
    "    for i in range(len(user_to_feature.columns)-1):\n",
    "        feature_items.append(df[col][i])"
   ]
  },
  {
   "cell_type": "code",
   "execution_count": 49,
   "metadata": {},
   "outputs": [],
   "source": [
    "user_feature['feature'] = feature_items\n",
    "user_to_feature = user_feature\n",
    "user_to_feature['feature_count'] = 1"
   ]
  },
  {
   "cell_type": "markdown",
   "metadata": {},
   "source": [
    "__Final interaction dfs__"
   ]
  },
  {
   "cell_type": "code",
   "execution_count": 50,
   "metadata": {},
   "outputs": [
    {
     "data": {
      "text/html": [
       "<div>\n",
       "<style scoped>\n",
       "    .dataframe tbody tr th:only-of-type {\n",
       "        vertical-align: middle;\n",
       "    }\n",
       "\n",
       "    .dataframe tbody tr th {\n",
       "        vertical-align: top;\n",
       "    }\n",
       "\n",
       "    .dataframe thead th {\n",
       "        text-align: right;\n",
       "    }\n",
       "</style>\n",
       "<table border=\"1\" class=\"dataframe\">\n",
       "  <thead>\n",
       "    <tr style=\"text-align: right;\">\n",
       "      <th></th>\n",
       "      <th>product_id</th>\n",
       "      <th>feature</th>\n",
       "      <th>feature_count</th>\n",
       "    </tr>\n",
       "  </thead>\n",
       "  <tbody>\n",
       "    <tr>\n",
       "      <td>0</td>\n",
       "      <td>372645c7439f9661fbbacfd129aa92ec</td>\n",
       "      <td>bed_bath_table</td>\n",
       "      <td>1</td>\n",
       "    </tr>\n",
       "    <tr>\n",
       "      <td>1</td>\n",
       "      <td>372645c7439f9661fbbacfd129aa92ec</td>\n",
       "      <td>da8622b14eb17ae2831f4ac5b9dab84a</td>\n",
       "      <td>1</td>\n",
       "    </tr>\n",
       "    <tr>\n",
       "      <td>2</td>\n",
       "      <td>372645c7439f9661fbbacfd129aa92ec</td>\n",
       "      <td>(3.075, 3.87]</td>\n",
       "      <td>1</td>\n",
       "    </tr>\n",
       "    <tr>\n",
       "      <td>3</td>\n",
       "      <td>372645c7439f9661fbbacfd129aa92ec</td>\n",
       "      <td>(1.824, 2.736]</td>\n",
       "      <td>1</td>\n",
       "    </tr>\n",
       "    <tr>\n",
       "      <td>4</td>\n",
       "      <td>372645c7439f9661fbbacfd129aa92ec</td>\n",
       "      <td>(4.0, 5.0]</td>\n",
       "      <td>1</td>\n",
       "    </tr>\n",
       "    <tr>\n",
       "      <td>5</td>\n",
       "      <td>372645c7439f9661fbbacfd129aa92ec</td>\n",
       "      <td>(4.0, 5.0]</td>\n",
       "      <td>1</td>\n",
       "    </tr>\n",
       "    <tr>\n",
       "      <td>6</td>\n",
       "      <td>372645c7439f9661fbbacfd129aa92ec</td>\n",
       "      <td>(74.9, 135.0]</td>\n",
       "      <td>1</td>\n",
       "    </tr>\n",
       "    <tr>\n",
       "      <td>7</td>\n",
       "      <td>372645c7439f9661fbbacfd129aa92ec</td>\n",
       "      <td>piracicaba</td>\n",
       "      <td>1</td>\n",
       "    </tr>\n",
       "    <tr>\n",
       "      <td>8</td>\n",
       "      <td>372645c7439f9661fbbacfd129aa92ec</td>\n",
       "      <td>SP</td>\n",
       "      <td>1</td>\n",
       "    </tr>\n",
       "  </tbody>\n",
       "</table>\n",
       "</div>"
      ],
      "text/plain": [
       "                         product_id                           feature  \\\n",
       "0  372645c7439f9661fbbacfd129aa92ec                    bed_bath_table   \n",
       "1  372645c7439f9661fbbacfd129aa92ec  da8622b14eb17ae2831f4ac5b9dab84a   \n",
       "2  372645c7439f9661fbbacfd129aa92ec                     (3.075, 3.87]   \n",
       "3  372645c7439f9661fbbacfd129aa92ec                    (1.824, 2.736]   \n",
       "4  372645c7439f9661fbbacfd129aa92ec                        (4.0, 5.0]   \n",
       "5  372645c7439f9661fbbacfd129aa92ec                        (4.0, 5.0]   \n",
       "6  372645c7439f9661fbbacfd129aa92ec                     (74.9, 135.0]   \n",
       "7  372645c7439f9661fbbacfd129aa92ec                        piracicaba   \n",
       "8  372645c7439f9661fbbacfd129aa92ec                                SP   \n",
       "\n",
       "   feature_count  \n",
       "0              1  \n",
       "1              1  \n",
       "2              1  \n",
       "3              1  \n",
       "4              1  \n",
       "5              1  \n",
       "6              1  \n",
       "7              1  \n",
       "8              1  "
      ]
     },
     "execution_count": 50,
     "metadata": {},
     "output_type": "execute_result"
    }
   ],
   "source": [
    "# 9 total features for each product\n",
    "product_to_feature.head(9)"
   ]
  },
  {
   "cell_type": "code",
   "execution_count": 51,
   "metadata": {
    "scrolled": true
   },
   "outputs": [
    {
     "data": {
      "text/html": [
       "<div>\n",
       "<style scoped>\n",
       "    .dataframe tbody tr th:only-of-type {\n",
       "        vertical-align: middle;\n",
       "    }\n",
       "\n",
       "    .dataframe tbody tr th {\n",
       "        vertical-align: top;\n",
       "    }\n",
       "\n",
       "    .dataframe thead th {\n",
       "        text-align: right;\n",
       "    }\n",
       "</style>\n",
       "<table border=\"1\" class=\"dataframe\">\n",
       "  <thead>\n",
       "    <tr style=\"text-align: right;\">\n",
       "      <th></th>\n",
       "      <th>customer_unique_id</th>\n",
       "      <th>feature</th>\n",
       "      <th>feature_count</th>\n",
       "    </tr>\n",
       "  </thead>\n",
       "  <tbody>\n",
       "    <tr>\n",
       "      <td>0</td>\n",
       "      <td>7c396fd4830fd04220f754e42b4e5bff</td>\n",
       "      <td>SP</td>\n",
       "      <td>1</td>\n",
       "    </tr>\n",
       "    <tr>\n",
       "      <td>1</td>\n",
       "      <td>7c396fd4830fd04220f754e42b4e5bff</td>\n",
       "      <td>12</td>\n",
       "      <td>1</td>\n",
       "    </tr>\n",
       "  </tbody>\n",
       "</table>\n",
       "</div>"
      ],
      "text/plain": [
       "                 customer_unique_id feature  feature_count\n",
       "0  7c396fd4830fd04220f754e42b4e5bff      SP              1\n",
       "1  7c396fd4830fd04220f754e42b4e5bff      12              1"
      ]
     },
     "execution_count": 51,
     "metadata": {},
     "output_type": "execute_result"
    }
   ],
   "source": [
    "# two features for each user\n",
    "user_to_feature.head(2)"
   ]
  },
  {
   "cell_type": "code",
   "execution_count": 52,
   "metadata": {},
   "outputs": [
    {
     "data": {
      "text/html": [
       "<div>\n",
       "<style scoped>\n",
       "    .dataframe tbody tr th:only-of-type {\n",
       "        vertical-align: middle;\n",
       "    }\n",
       "\n",
       "    .dataframe tbody tr th {\n",
       "        vertical-align: top;\n",
       "    }\n",
       "\n",
       "    .dataframe thead th {\n",
       "        text-align: right;\n",
       "    }\n",
       "</style>\n",
       "<table border=\"1\" class=\"dataframe\">\n",
       "  <thead>\n",
       "    <tr style=\"text-align: right;\">\n",
       "      <th></th>\n",
       "      <th>customer_unique_id</th>\n",
       "      <th>product_id</th>\n",
       "      <th>product_count</th>\n",
       "    </tr>\n",
       "  </thead>\n",
       "  <tbody>\n",
       "    <tr>\n",
       "      <td>0</td>\n",
       "      <td>0000366f3b9a7992bf8c76cfdf3221e2</td>\n",
       "      <td>372645c7439f9661fbbacfd129aa92ec</td>\n",
       "      <td>1</td>\n",
       "    </tr>\n",
       "    <tr>\n",
       "      <td>1</td>\n",
       "      <td>0000f46a3911fa3c0805444483337064</td>\n",
       "      <td>64b488de448a5324c4134ea39c28a34b</td>\n",
       "      <td>1</td>\n",
       "    </tr>\n",
       "    <tr>\n",
       "      <td>2</td>\n",
       "      <td>0004aac84e0df4da2b147fca70cf8255</td>\n",
       "      <td>c72e18b3fe2739b8d24ebf3102450f37</td>\n",
       "      <td>1</td>\n",
       "    </tr>\n",
       "    <tr>\n",
       "      <td>3</td>\n",
       "      <td>0004bd2a26a76fe21f786e4fbd80607f</td>\n",
       "      <td>25cf184645f3fae66083bf33581b8f13</td>\n",
       "      <td>1</td>\n",
       "    </tr>\n",
       "    <tr>\n",
       "      <td>4</td>\n",
       "      <td>00053a61a98854899e70ed204dd4bafe</td>\n",
       "      <td>62984ea1bba7fcea1f5b57084d3bf885</td>\n",
       "      <td>2</td>\n",
       "    </tr>\n",
       "  </tbody>\n",
       "</table>\n",
       "</div>"
      ],
      "text/plain": [
       "                 customer_unique_id                        product_id  \\\n",
       "0  0000366f3b9a7992bf8c76cfdf3221e2  372645c7439f9661fbbacfd129aa92ec   \n",
       "1  0000f46a3911fa3c0805444483337064  64b488de448a5324c4134ea39c28a34b   \n",
       "2  0004aac84e0df4da2b147fca70cf8255  c72e18b3fe2739b8d24ebf3102450f37   \n",
       "3  0004bd2a26a76fe21f786e4fbd80607f  25cf184645f3fae66083bf33581b8f13   \n",
       "4  00053a61a98854899e70ed204dd4bafe  62984ea1bba7fcea1f5b57084d3bf885   \n",
       "\n",
       "   product_count  \n",
       "0              1  \n",
       "1              1  \n",
       "2              1  \n",
       "3              1  \n",
       "4              2  "
      ]
     },
     "execution_count": 52,
     "metadata": {},
     "output_type": "execute_result"
    }
   ],
   "source": [
    "# count for each user for the products they purchased\n",
    "user_to_product_rating_train.head()"
   ]
  },
  {
   "cell_type": "code",
   "execution_count": 53,
   "metadata": {
    "scrolled": true
   },
   "outputs": [
    {
     "data": {
      "text/html": [
       "<div>\n",
       "<style scoped>\n",
       "    .dataframe tbody tr th:only-of-type {\n",
       "        vertical-align: middle;\n",
       "    }\n",
       "\n",
       "    .dataframe tbody tr th {\n",
       "        vertical-align: top;\n",
       "    }\n",
       "\n",
       "    .dataframe thead th {\n",
       "        text-align: right;\n",
       "    }\n",
       "</style>\n",
       "<table border=\"1\" class=\"dataframe\">\n",
       "  <thead>\n",
       "    <tr style=\"text-align: right;\">\n",
       "      <th></th>\n",
       "      <th>customer_unique_id</th>\n",
       "      <th>product_id</th>\n",
       "      <th>product_count</th>\n",
       "    </tr>\n",
       "  </thead>\n",
       "  <tbody>\n",
       "    <tr>\n",
       "      <td>0</td>\n",
       "      <td>0000b849f77a49e4a4ce2b2a4ca5be3f</td>\n",
       "      <td>5099f7000472b634fea8304448d20825</td>\n",
       "      <td>1</td>\n",
       "    </tr>\n",
       "    <tr>\n",
       "      <td>1</td>\n",
       "      <td>0000f6ccb0745a6a4b88665a16c9f078</td>\n",
       "      <td>2345a354a6f2033609bbf62bf5be9ef6</td>\n",
       "      <td>1</td>\n",
       "    </tr>\n",
       "    <tr>\n",
       "      <td>2</td>\n",
       "      <td>00050ab1314c0e55a6ca13cf7181fecf</td>\n",
       "      <td>8cefe1c6f2304e7e6825150218ffc58c</td>\n",
       "      <td>1</td>\n",
       "    </tr>\n",
       "    <tr>\n",
       "      <td>3</td>\n",
       "      <td>000de6019bb59f34c099a907c151d855</td>\n",
       "      <td>af0a917aec9cea3b353ece61a8825326</td>\n",
       "      <td>2</td>\n",
       "    </tr>\n",
       "    <tr>\n",
       "      <td>4</td>\n",
       "      <td>000ed48ceeb6f4bf8ad021a10a3c7b43</td>\n",
       "      <td>d2f5484cbffe4ca766301b21ab9246dd</td>\n",
       "      <td>1</td>\n",
       "    </tr>\n",
       "  </tbody>\n",
       "</table>\n",
       "</div>"
      ],
      "text/plain": [
       "                 customer_unique_id                        product_id  \\\n",
       "0  0000b849f77a49e4a4ce2b2a4ca5be3f  5099f7000472b634fea8304448d20825   \n",
       "1  0000f6ccb0745a6a4b88665a16c9f078  2345a354a6f2033609bbf62bf5be9ef6   \n",
       "2  00050ab1314c0e55a6ca13cf7181fecf  8cefe1c6f2304e7e6825150218ffc58c   \n",
       "3  000de6019bb59f34c099a907c151d855  af0a917aec9cea3b353ece61a8825326   \n",
       "4  000ed48ceeb6f4bf8ad021a10a3c7b43  d2f5484cbffe4ca766301b21ab9246dd   \n",
       "\n",
       "   product_count  \n",
       "0              1  \n",
       "1              1  \n",
       "2              1  \n",
       "3              2  \n",
       "4              1  "
      ]
     },
     "execution_count": 53,
     "metadata": {},
     "output_type": "execute_result"
    }
   ],
   "source": [
    "user_to_product_rating_test.head()"
   ]
  },
  {
   "cell_type": "markdown",
   "metadata": {},
   "source": [
    "__Create sparse matrix for products and metadata__"
   ]
  },
  {
   "cell_type": "code",
   "execution_count": 54,
   "metadata": {},
   "outputs": [],
   "source": [
    "from scipy import sparse\n",
    "\n",
    "def get_interaction_matrix(df, df_column_as_row, df_column_as_col, df_column_as_value, row_indexing_map, \n",
    "                          col_indexing_map):\n",
    "    \n",
    "    row = df[df_column_as_row].apply(lambda x: row_indexing_map[x]).values\n",
    "    col = df[df_column_as_col].apply(lambda x: col_indexing_map[x]).values\n",
    "    value = df[df_column_as_value].values\n",
    "    \n",
    "    return sparse.coo_matrix((value, (row, col)), shape = (len(row_indexing_map), len(col_indexing_map)))"
   ]
  },
  {
   "cell_type": "code",
   "execution_count": 55,
   "metadata": {},
   "outputs": [],
   "source": [
    "# generate user_item_interaction_matrix for train data\n",
    "user_to_product_interaction_train = get_interaction_matrix(user_to_product_rating_train, \"customer_unique_id\", \n",
    "                                                    \"product_id\", \"product_count\", user_to_index_mapping, item_to_index_mapping)\n",
    "\n",
    "# generate user_item_interaction_matrix for test data\n",
    "user_to_product_interaction_test = get_interaction_matrix(user_to_product_rating_test, \"customer_unique_id\", \n",
    "                                                    \"product_id\", \"product_count\", user_to_index_mapping, item_to_index_mapping)\n",
    "\n",
    "# generate item_to_feature interaction\n",
    "product_to_feature_interaction = get_interaction_matrix(product_to_feature, \"product_id\", \"feature\",  \"feature_count\", \n",
    "                                                        item_to_index_mapping, item_feature_to_index_mapping)\n",
    "\n",
    "user_to_feature_interaction = get_interaction_matrix(user_to_feature, \"customer_unique_id\", \"feature\", \"feature_count\", \n",
    "                                                     user_to_index_mapping, user_feature_to_index_mapping)"
   ]
  },
  {
   "cell_type": "markdown",
   "metadata": {},
   "source": [
    "## Model with only collaborative interactions"
   ]
  },
  {
   "cell_type": "code",
   "execution_count": null,
   "metadata": {},
   "outputs": [],
   "source": [
    "import time\n",
    "from lightfm import LightFM\n",
    "from lightfm.evaluation import auc_score\n",
    "# initialising model with warp loss function\n",
    "model_without_features = LightFM(loss = \"warp\")\n",
    "\n",
    "# fitting into user to product interaction matrix only / pure collaborative filtering factor\n",
    "start = time.time()\n",
    "#===================\n",
    "\n",
    "model_without_features.fit(user_to_product_interaction_train,\n",
    "          user_features=None, \n",
    "          item_features=None, \n",
    "          sample_weight=None, \n",
    "          epochs=1, \n",
    "          num_threads=4,\n",
    "          verbose=False)\n",
    "\n",
    "#===================\n",
    "end = time.time()\n",
    "print(\"time taken = {0:.{1}f} seconds\".format(end - start, 2))\n",
    "\n",
    "# auc metric score (ranging from 0 to 1)\n",
    "\n",
    "start = time.time()\n",
    "#===================\n",
    "\n",
    "auc_without_features = auc_score(model = model_without_features, \n",
    "                        test_interactions = user_to_product_interaction_test,\n",
    "                        num_threads = 4, check_intersections = False)\n",
    "#===================\n",
    "end = time.time()\n",
    "\n",
    "print(\"time taken = {0:.{1}f} seconds\".format(end - start, 2))\n",
    "print(\"average AUC without adding item-feature interaction = {0:.{1}f}\".format(auc_without_features.mean(), 2))"
   ]
  },
  {
   "cell_type": "markdown",
   "metadata": {},
   "source": [
    "## Model with collaborative filtering and product content"
   ]
  },
  {
   "cell_type": "code",
   "execution_count": 57,
   "metadata": {
    "scrolled": true
   },
   "outputs": [
    {
     "name": "stdout",
     "output_type": "stream",
     "text": [
      "time taken = 0.24 seconds\n",
      "time taken = 59.40 seconds\n",
      "average AUC with adding item-feature interaction = 0.79\n"
     ]
    }
   ],
   "source": [
    "# initialising model with warp loss function\n",
    "model_with_features = LightFM(loss = \"warp\")\n",
    "\n",
    "# fitting the model with hybrid collaborative filtering + content based (product + features)\n",
    "start = time.time()\n",
    "#===================\n",
    "\n",
    "\n",
    "model_with_features.fit(user_to_product_interaction_train,\n",
    "          user_features=None, \n",
    "          item_features=product_to_feature_interaction, \n",
    "          sample_weight=None, \n",
    "          epochs=1, \n",
    "          num_threads=4,\n",
    "          verbose=False)\n",
    "\n",
    "#===================\n",
    "end = time.time()\n",
    "print(\"time taken = {0:.{1}f} seconds\".format(end - start, 2))\n",
    "\n",
    "start = time.time()\n",
    "#===================\n",
    "auc_with_features = auc_score(model = model_with_features, \n",
    "                        test_interactions = user_to_product_interaction_test,\n",
    "                        train_interactions = user_to_product_interaction_train,\n",
    "                        user_features=None,\n",
    "                        item_features = product_to_feature_interaction,\n",
    "                        num_threads = 4, check_intersections=False)\n",
    "#===================\n",
    "end = time.time()\n",
    "print(\"time taken = {0:.{1}f} seconds\".format(end - start, 2))\n",
    "\n",
    "print(\"average AUC with adding item-feature interaction = {0:.{1}f}\".format(auc_with_features.mean(), 2))\n"
   ]
  },
  {
   "cell_type": "markdown",
   "metadata": {},
   "source": [
    "> Much better results with including product interactions. This makes sense here due to the fact that many of the customers in this dataset have only bought from olist one time. "
   ]
  },
  {
   "cell_type": "markdown",
   "metadata": {},
   "source": [
    "## Model with hybrid collaborative filtering and content based including user features"
   ]
  },
  {
   "cell_type": "code",
   "execution_count": 58,
   "metadata": {},
   "outputs": [
    {
     "name": "stdout",
     "output_type": "stream",
     "text": [
      "time taken = 0.24 seconds\n",
      "time taken = 58.56 seconds\n",
      "average AUC with adding item-feature and user-feature interaction = 0.97\n"
     ]
    }
   ],
   "source": [
    "import time\n",
    "from lightfm import LightFM\n",
    "from lightfm.evaluation import auc_score\n",
    "# initialising model with warp loss function\n",
    "model_with_features_and_users = LightFM(loss = \"warp\")\n",
    "\n",
    "# fitting the model with hybrid collaborative filtering + content based (product + features)\n",
    "start = time.time()\n",
    "#===================\n",
    "\n",
    "\n",
    "model_with_features_and_users.fit(user_to_product_interaction_train,\n",
    "          user_features=user_to_feature_interaction, \n",
    "          item_features=product_to_feature_interaction, \n",
    "          sample_weight=None, \n",
    "          epochs=1, \n",
    "          num_threads=4,\n",
    "          verbose=False)\n",
    "\n",
    "#===================\n",
    "end = time.time()\n",
    "print(\"time taken = {0:.{1}f} seconds\".format(end - start, 2))\n",
    "\n",
    "start = time.time()\n",
    "#===================\n",
    "auc_with_features = auc_score(model = model_with_features_and_users, \n",
    "                        test_interactions = user_to_product_interaction_test,\n",
    "                        train_interactions = user_to_product_interaction_train,\n",
    "                        user_features=user_to_feature_interaction,\n",
    "                        item_features = product_to_feature_interaction,\n",
    "                        num_threads = 4, check_intersections=False)\n",
    "#===================\n",
    "end = time.time()\n",
    "print(\"time taken = {0:.{1}f} seconds\".format(end - start, 2))\n",
    "\n",
    "print(\"average AUC with adding item-feature and user-feature interaction = {0:.{1}f}\".format(auc_with_features.mean(), 2))\n"
   ]
  },
  {
   "cell_type": "markdown",
   "metadata": {},
   "source": [
    "> When adding clustering groups the auc increases to 97, which indicates some possiblt overfitting like was predicted. The clustering groups may be too heavily relied on for recommendations."
   ]
  },
  {
   "cell_type": "markdown",
   "metadata": {},
   "source": [
    "### Combine train and test for testing on individual user recommendations"
   ]
  },
  {
   "cell_type": "code",
   "execution_count": 59,
   "metadata": {},
   "outputs": [],
   "source": [
    "def combined_train_test(train, test):\n",
    "    \"\"\"\n",
    "    \n",
    "    test set is the more recent rating/number_of_order of users.\n",
    "    train set is the previous rating/number_of_order of users.\n",
    "    non-zero value in the test set will replace the elements in \n",
    "    the train set matrices\n",
    "    \"\"\"\n",
    "    # initialising train dict\n",
    "    train_dict = {}\n",
    "    for train_row, train_col, train_data in zip(train.row, train.col, train.data):\n",
    "        train_dict[(train_row, train_col)] = train_data\n",
    "        \n",
    "    # replacing with the test set\n",
    "    \n",
    "    for test_row, test_col, test_data in zip(test.row, test.col, test.data):\n",
    "        train_dict[(test_row, test_col)] = max(test_data, train_dict.get((test_row, test_col), 0))\n",
    "        \n",
    "    \n",
    "    # converting to the row\n",
    "    row_element = []\n",
    "    col_element = []\n",
    "    data_element = []\n",
    "    for row, col in train_dict:\n",
    "        row_element.append(row)\n",
    "        col_element.append(col)\n",
    "        data_element.append(train_dict[(row, col)])\n",
    "        \n",
    "    # converting to np array\n",
    "    \n",
    "    row_element = np.array(row_element)\n",
    "    col_element = np.array(col_element)\n",
    "    data_element = np.array(data_element)\n",
    "    \n",
    "    return sparse.coo_matrix((data_element, (row_element, col_element)), shape = (train.shape[0], train.shape[1]))"
   ]
  },
  {
   "cell_type": "code",
   "execution_count": 60,
   "metadata": {},
   "outputs": [],
   "source": [
    "# Create one user-product interaction matrix\n",
    "user_to_product_interaction = combined_train_test(user_to_product_interaction_train, \n",
    "                                                 user_to_product_interaction_test)"
   ]
  },
  {
   "cell_type": "markdown",
   "metadata": {},
   "source": [
    "### Fit initial model with collaborative and product feature interaction matrices"
   ]
  },
  {
   "cell_type": "code",
   "execution_count": 61,
   "metadata": {},
   "outputs": [
    {
     "name": "stdout",
     "output_type": "stream",
     "text": [
      "time taken = 0.30 seconds\n"
     ]
    }
   ],
   "source": [
    "# retraining the final model with combined dataset\n",
    "\n",
    "initial_model1 = LightFM(loss = \"warp\")\n",
    "\n",
    "# fitting to combined dataset with pure collaborative filtering result\n",
    "\n",
    "start = time.time()\n",
    "#===================\n",
    "\n",
    "initial_model1.fit(user_to_product_interaction,\n",
    "          user_features=None, \n",
    "          item_features=product_to_feature_interaction, \n",
    "          sample_weight=None, \n",
    "          epochs=1, \n",
    "          num_threads=4,\n",
    "          verbose=False)\n",
    "\n",
    "#===================\n",
    "end = time.time()\n",
    "print(\"time taken = {0:.{1}f} seconds\".format(end - start, 2))"
   ]
  },
  {
   "cell_type": "markdown",
   "metadata": {},
   "source": [
    "### Fit model with user features included"
   ]
  },
  {
   "cell_type": "code",
   "execution_count": 62,
   "metadata": {},
   "outputs": [
    {
     "name": "stdout",
     "output_type": "stream",
     "text": [
      "time taken = 0.21 seconds\n"
     ]
    }
   ],
   "source": [
    "# retraining the final model with combined dataset\n",
    "\n",
    "initial_model2 = LightFM(loss = \"warp\")\n",
    "\n",
    "# fitting to combined dataset with pure collaborative filtering result\n",
    "\n",
    "start = time.time()\n",
    "#===================\n",
    "\n",
    "initial_model2.fit(user_to_product_interaction,\n",
    "          user_features=user_to_feature_interaction, \n",
    "          item_features=product_to_feature_interaction, \n",
    "          sample_weight=None, \n",
    "          epochs=1, \n",
    "          num_threads=4,\n",
    "          verbose=False)\n",
    "\n",
    "#===================\n",
    "end = time.time()\n",
    "print(\"time taken = {0:.{1}f} seconds\".format(end - start, 2))"
   ]
  },
  {
   "cell_type": "markdown",
   "metadata": {},
   "source": [
    "__Define recommendation function__\n",
    "\n",
    "This function should provide the requested number of recommended items given a customers id. For reproducibility it will take the model, customer-product interaction, and the customer and item dictionaries. The function will print the known items liked by the customer, and will output the top n recommended items based on their history. "
   ]
  },
  {
   "cell_type": "code",
   "execution_count": 63,
   "metadata": {},
   "outputs": [],
   "source": [
    "class recommendation_sampling:\n",
    "    \n",
    "    def __init__(self, model, items = items, user_to_product_interaction_matrix = user_to_product_interaction, \n",
    "                user2index_map = user_to_index_mapping):\n",
    "        \n",
    "        self.user_to_product_interaction_matrix = user_to_product_interaction_matrix\n",
    "        self.model = model\n",
    "        self.items = items\n",
    "        self.user2index_map = user2index_map\n",
    "    \n",
    "    def recommendation_for_user(self, user, user_features=None):\n",
    "        \n",
    "        # getting the userindex\n",
    "        \n",
    "        userindex = self.user2index_map.get(user, None)\n",
    "        \n",
    "        if userindex == None:\n",
    "            return None\n",
    "        \n",
    "        users = [userindex]\n",
    "        \n",
    "        # products already bought\n",
    "        \n",
    "        known_positives = self.items[self.user_to_product_interaction_matrix.tocsr()[userindex].indices]\n",
    "        \n",
    "        # scores from model prediction\n",
    "        scores = self.model.predict(user_ids = users, item_ids = np.arange(self.user_to_product_interaction_matrix.shape[1]),\n",
    "                                    user_features=user_features,\n",
    "                                    item_features = product_to_feature_interaction)\n",
    "\n",
    "        # top items\n",
    "        \n",
    "        top_items = self.items[np.argsort(-scores)]\n",
    "        \n",
    "        # printing out the result\n",
    "        print(\"User %s\" % user)\n",
    "        print(\"     Known positives:\")\n",
    "        \n",
    "        for x in known_positives[:3]:\n",
    "            print(\"                  %s\" % x)\n",
    "            print(\"                  {}\".format(product_to_feature['feature'][product_to_feature['product_id'] == x].iloc[0]))\n",
    "            \n",
    "            \n",
    "        print(\"     Recommended:\")\n",
    "        \n",
    "        for x in top_items[:3]:\n",
    "            print(\"                  %s\" % x)\n",
    "            print(\"                  {}\".format(product_to_feature['feature'][product_to_feature['product_id'] == x].iloc[0]))"
   ]
  },
  {
   "cell_type": "markdown",
   "metadata": {},
   "source": [
    "### Test before hyperparameter tuning with both initial models"
   ]
  },
  {
   "cell_type": "markdown",
   "metadata": {},
   "source": [
    "__Test for customer_id = 'c8ed31310fc440a3f8031b177f9842c3'__"
   ]
  },
  {
   "cell_type": "code",
   "execution_count": 64,
   "metadata": {
    "scrolled": true
   },
   "outputs": [
    {
     "name": "stdout",
     "output_type": "stream",
     "text": [
      "User c8ed31310fc440a3f8031b177f9842c3\n",
      "     Known positives:\n",
      "                  4a5c3967bfd3629fe07ef4d0cc8c3818\n",
      "                  construction_tools_construction\n",
      "                  21b524c4c060169fa75ccf08c7da4627\n",
      "                  construction_tools_construction\n",
      "                  5dae498eff2d80057f56122235a36aff\n",
      "                  construction_tools_construction\n",
      "     Recommended:\n",
      "                  d1c427060a0f73f6b889a5c7c61f2ac4\n",
      "                  computers_accessories\n",
      "                  36f60d45225e60c7da4558b070ce4b60\n",
      "                  computers_accessories\n",
      "                  35afc973633aaeb6b877ff57b2793310\n",
      "                  home_confort\n",
      "None\n"
     ]
    }
   ],
   "source": [
    "# Initial model without user features\n",
    "recom = recommendation_sampling(model = initial_model1)\n",
    "print(recom.recommendation_for_user('c8ed31310fc440a3f8031b177f9842c3'))"
   ]
  },
  {
   "cell_type": "code",
   "execution_count": 65,
   "metadata": {
    "scrolled": true
   },
   "outputs": [
    {
     "name": "stdout",
     "output_type": "stream",
     "text": [
      "User c8ed31310fc440a3f8031b177f9842c3\n",
      "     Known positives:\n",
      "                  4a5c3967bfd3629fe07ef4d0cc8c3818\n",
      "                  construction_tools_construction\n",
      "                  21b524c4c060169fa75ccf08c7da4627\n",
      "                  construction_tools_construction\n",
      "                  5dae498eff2d80057f56122235a36aff\n",
      "                  construction_tools_construction\n",
      "     Recommended:\n",
      "                  0aabfb375647d9738ad0f7b4ea3653b1\n",
      "                  consoles_games\n",
      "                  89321f94e35fc6d7903d36f74e351d40\n",
      "                  food\n",
      "                  4fe644d766c7566dbc46fb851363cb3b\n",
      "                  art\n",
      "None\n"
     ]
    }
   ],
   "source": [
    "# initial model with user features (which includes clustered groups)\n",
    "recom = recommendation_sampling(model = initial_model2)\n",
    "print(recom.recommendation_for_user('c8ed31310fc440a3f8031b177f9842c3', user_features=user_to_feature_interaction))"
   ]
  },
  {
   "cell_type": "markdown",
   "metadata": {},
   "source": [
    "> What is interesting about these results is that our initial model without user features, and thus without clustering groups, suggests products that were found to be purchased often, while the second model suggests more novel items. It is difficult to say which is better."
   ]
  },
  {
   "cell_type": "markdown",
   "metadata": {},
   "source": [
    "## Implement hyperparameter tuning"
   ]
  },
  {
   "cell_type": "code",
   "execution_count": 66,
   "metadata": {},
   "outputs": [],
   "source": [
    "import itertools\n",
    "\n",
    "import numpy as np\n",
    "\n",
    "from lightfm import LightFM\n",
    "from lightfm.evaluation import auc_score\n",
    "\n",
    "\n",
    "def sample_hyperparameters():\n",
    "    \"\"\"\n",
    "    Yield possible hyperparameter choices.\n",
    "    \"\"\"\n",
    "\n",
    "    while True:\n",
    "        yield {\n",
    "            \"no_components\": np.random.randint(16, 64),\n",
    "            \"learning_schedule\": np.random.choice([\"adagrad\", \"adadelta\"]),\n",
    "            \"loss\": np.random.choice([\"bpr\", \"warp\", \"warp-kos\"]),\n",
    "            \"learning_rate\": np.random.exponential(0.05),\n",
    "            \"item_alpha\": np.random.exponential(1e-8),\n",
    "            \"user_alpha\": np.random.exponential(1e-8),\n",
    "            \"max_sampled\": np.random.randint(5, 15),\n",
    "            \"num_epochs\": np.random.randint(5, 50),\n",
    "        }\n",
    "\n",
    "\n",
    "def random_search(test, train, user_features, item_features, num_samples=10):\n",
    "    \"\"\"\n",
    "    Sample random hyperparameters, fit a LightFM model, and evaluate it\n",
    "    on the test set.\n",
    "\n",
    "    Parameters\n",
    "    ----------\n",
    "\n",
    "    train: np.float32 coo_matrix of shape [n_users, n_items]\n",
    "        Training data.\n",
    "    test: np.float32 coo_matrix of shape [n_users, n_items]\n",
    "        Test data.\n",
    "    num_samples: int, optional\n",
    "        Number of hyperparameter choices to evaluate.\n",
    "\n",
    "\n",
    "    Returns\n",
    "    -------\n",
    "\n",
    "    generator of (auc_score, hyperparameter dict, fitted model)\n",
    "\n",
    "    \"\"\"\n",
    "\n",
    "    for hyperparams in itertools.islice(sample_hyperparameters(), num_samples):\n",
    "        num_epochs = hyperparams.pop(\"num_epochs\")\n",
    "\n",
    "        model = LightFM(**hyperparams)\n",
    "        model.fit(train, user_features=user_features, item_features=item_features, epochs=num_epochs, num_threads=1)\n",
    "\n",
    "        score = auc_score(model = model, \n",
    "                        test_interactions = test,\n",
    "                        train_interactions = train,\n",
    "                        user_features = user_features,\n",
    "                        item_features = item_features,\n",
    "                        num_threads = 4, check_intersections=False).mean()\n",
    "\n",
    "        hyperparams[\"num_epochs\"] = num_epochs\n",
    "\n",
    "        yield (score, hyperparams, model)"
   ]
  },
  {
   "cell_type": "markdown",
   "metadata": {},
   "source": [
    "__Without user features__"
   ]
  },
  {
   "cell_type": "code",
   "execution_count": 67,
   "metadata": {},
   "outputs": [
    {
     "name": "stdout",
     "output_type": "stream",
     "text": [
      "Best score 0.7649544477462769 at {'no_components': 20, 'learning_schedule': 'adagrad', 'loss': 'warp', 'learning_rate': 0.06527879177463329, 'item_alpha': 1.549602673630783e-08, 'user_alpha': 6.547639310592444e-10, 'max_sampled': 11, 'num_epochs': 16}\n"
     ]
    }
   ],
   "source": [
    "if __name__ == \"__main__\":\n",
    "    \n",
    "    (score, hyperparams1, model) = max(random_search(user_to_product_interaction_test,\n",
    "                                                    user_to_product_interaction_train,\n",
    "                                                    user_features=None,\n",
    "                                                    item_features=product_to_feature_interaction), \n",
    "                                      key=lambda x: x[0])\n",
    "    \n",
    "    \n",
    "    print(\"Best score {} at {}\".format(score, hyperparams1))"
   ]
  },
  {
   "cell_type": "code",
   "execution_count": 68,
   "metadata": {},
   "outputs": [
    {
     "name": "stdout",
     "output_type": "stream",
     "text": [
      "time taken = 1.44 seconds\n"
     ]
    }
   ],
   "source": [
    "# retraining the final model with combined dataset\n",
    "model_hyperparams1 = {key: value for key, value in hyperparams1.items() if key not in 'num_epochs'}\n",
    "# without clustered label\n",
    "final_model1 = LightFM(**(model_hyperparams1), random_state=3)\n",
    "\n",
    "# fitting to combined dataset with pure collaborative filtering result\n",
    "\n",
    "start = time.time()\n",
    "#===================\n",
    "\n",
    "final_model1.fit(user_to_product_interaction,\n",
    "          user_features=None, \n",
    "          item_features=product_to_feature_interaction, \n",
    "          sample_weight=None, \n",
    "          epochs=5, \n",
    "          num_threads=4,\n",
    "          verbose=False)\n",
    "\n",
    "#===================\n",
    "end = time.time()\n",
    "print(\"time taken = {0:.{1}f} seconds\".format(end - start, 2))"
   ]
  },
  {
   "cell_type": "markdown",
   "metadata": {},
   "source": [
    "__With user features__"
   ]
  },
  {
   "cell_type": "code",
   "execution_count": 69,
   "metadata": {},
   "outputs": [
    {
     "name": "stdout",
     "output_type": "stream",
     "text": [
      "Best score 0.9701918959617615 at {'no_components': 57, 'learning_schedule': 'adagrad', 'loss': 'warp-kos', 'learning_rate': 0.0204193383282095, 'item_alpha': 7.179002006738488e-09, 'user_alpha': 2.0156094663261573e-09, 'max_sampled': 12, 'num_epochs': 26}\n"
     ]
    }
   ],
   "source": [
    "if __name__ == \"__main__\":\n",
    "    \n",
    "    (score, hyperparams2, model) = max(random_search(user_to_product_interaction_test,\n",
    "                                                    user_to_product_interaction_train,\n",
    "                                                    user_to_feature_interaction,\n",
    "                                                    product_to_feature_interaction), \n",
    "                                      key=lambda x: x[0])\n",
    "    \n",
    "    \n",
    "    print(\"Best score {} at {}\".format(score, hyperparams2))"
   ]
  },
  {
   "cell_type": "code",
   "execution_count": 70,
   "metadata": {
    "scrolled": true
   },
   "outputs": [
    {
     "name": "stdout",
     "output_type": "stream",
     "text": [
      "time taken = 14.20 seconds\n"
     ]
    }
   ],
   "source": [
    "# retraining the final model with combined dataset\n",
    "# with clustered label\n",
    "model_hyperparams2 = {key: value for key, value in hyperparams2.items() if key not in 'num_epochs'}\n",
    "final_model2 = LightFM(**model_hyperparams2, random_state=3)\n",
    "\n",
    "# fitting to combined dataset with pure collaborative filtering result\n",
    "\n",
    "start = time.time()\n",
    "#===================\n",
    "\n",
    "final_model2.fit(user_to_product_interaction,\n",
    "          user_features=user_to_feature_interaction, \n",
    "          item_features=product_to_feature_interaction, \n",
    "          sample_weight=None, \n",
    "          epochs=hyperparams2.pop('num_epochs'), \n",
    "          num_threads=4,\n",
    "          verbose=False)\n",
    "\n",
    "#===================\n",
    "end = time.time()\n",
    "print(\"time taken = {0:.{1}f} seconds\".format(end - start, 2))"
   ]
  },
  {
   "cell_type": "markdown",
   "metadata": {},
   "source": [
    "### Testing recommendations for select customers"
   ]
  },
  {
   "cell_type": "markdown",
   "metadata": {},
   "source": [
    "To compare model1 and model2, we will select customers with many items purchased and those with very few to see how it performs. Ideally we will not see anything out of the ordinary or unexpected although sometimes that may be the better recommendation. Our final choice will be based on consistency so many tests will be performed to get a good overall picture. "
   ]
  },
  {
   "cell_type": "markdown",
   "metadata": {},
   "source": [
    "__Test for customer_id = 'c8ed31310fc440a3f8031b177f9842c3'__"
   ]
  },
  {
   "cell_type": "code",
   "execution_count": 71,
   "metadata": {},
   "outputs": [
    {
     "name": "stdout",
     "output_type": "stream",
     "text": [
      "User c8ed31310fc440a3f8031b177f9842c3\n",
      "     Known positives:\n",
      "                  4a5c3967bfd3629fe07ef4d0cc8c3818\n",
      "                  construction_tools_construction\n",
      "                  21b524c4c060169fa75ccf08c7da4627\n",
      "                  construction_tools_construction\n",
      "                  5dae498eff2d80057f56122235a36aff\n",
      "                  construction_tools_construction\n",
      "     Recommended:\n",
      "                  18fa9cc25ea8b54f32d029f261673c0f\n",
      "                  construction_tools_construction\n",
      "                  97d94ffa4936cbc2555e83aefc1f427b\n",
      "                  construction_tools_construction\n",
      "                  cd46a885543f0e169a49f1eb25c04e43\n",
      "                  computers_accessories\n",
      "None\n"
     ]
    }
   ],
   "source": [
    "recom = recommendation_sampling(model = final_model1)\n",
    "#print(recom.recommendation_for_user(2))\n",
    "print(recom.recommendation_for_user('c8ed31310fc440a3f8031b177f9842c3'))"
   ]
  },
  {
   "cell_type": "code",
   "execution_count": 72,
   "metadata": {
    "scrolled": true
   },
   "outputs": [
    {
     "name": "stdout",
     "output_type": "stream",
     "text": [
      "User c8ed31310fc440a3f8031b177f9842c3\n",
      "     Known positives:\n",
      "                  4a5c3967bfd3629fe07ef4d0cc8c3818\n",
      "                  construction_tools_construction\n",
      "                  21b524c4c060169fa75ccf08c7da4627\n",
      "                  construction_tools_construction\n",
      "                  5dae498eff2d80057f56122235a36aff\n",
      "                  construction_tools_construction\n",
      "     Recommended:\n",
      "                  0aabfb375647d9738ad0f7b4ea3653b1\n",
      "                  consoles_games\n",
      "                  d017a2151d543a9885604dc62a3d9dcc\n",
      "                  fashion_bags_accessories\n",
      "                  4fe644d766c7566dbc46fb851363cb3b\n",
      "                  art\n",
      "None\n"
     ]
    }
   ],
   "source": [
    "recom = recommendation_sampling(model = final_model2)\n",
    "#print(recom.recommendation_for_user(2))\n",
    "print(recom.recommendation_for_user('c8ed31310fc440a3f8031b177f9842c3', user_features=user_to_feature_interaction))"
   ]
  },
  {
   "cell_type": "markdown",
   "metadata": {},
   "source": [
    "> The initial results from our first run through of both models yields some interesting results. Our model without user features gives cool stuff and fashion bags for this user who bought only construction tools. This would seem unexpected but it may be detecting other customers with similar purchases who also bought these items."
   ]
  },
  {
   "cell_type": "markdown",
   "metadata": {},
   "source": [
    "__Test for customer_id = '698e1cf81d01a3d389d96145f7fa6df8'__"
   ]
  },
  {
   "cell_type": "code",
   "execution_count": 75,
   "metadata": {
    "scrolled": true
   },
   "outputs": [
    {
     "name": "stdout",
     "output_type": "stream",
     "text": [
      "User 698e1cf81d01a3d389d96145f7fa6df8\n",
      "     Known positives:\n",
      "                  9571759451b1d780ee7c15012ea109d4\n",
      "                  auto\n",
      "     Recommended:\n",
      "                  0152f69b6cf919bcdaf117aa8c43e5a2\n",
      "                  bed_bath_table\n",
      "                  b59fb744c6f3cd1dc23b10f760848d98\n",
      "                  sports_leisure\n",
      "                  dca18a6e2fb6da75092ed874094ed7b6\n",
      "                  telephony\n",
      "None\n"
     ]
    }
   ],
   "source": [
    "#698e1cf81d01a3d389d96145f7fa6df8\n",
    "recom = recommendation_sampling(model = final_model1)\n",
    "#print(recom.recommendation_for_user(2))\n",
    "print(recom.recommendation_for_user('698e1cf81d01a3d389d96145f7fa6df8'))"
   ]
  },
  {
   "cell_type": "code",
   "execution_count": 76,
   "metadata": {},
   "outputs": [
    {
     "name": "stdout",
     "output_type": "stream",
     "text": [
      "User 698e1cf81d01a3d389d96145f7fa6df8\n",
      "     Known positives:\n",
      "                  9571759451b1d780ee7c15012ea109d4\n",
      "                  auto\n",
      "     Recommended:\n",
      "                  9ddc4249779322828f89d2a9c04f7ee1\n",
      "                  auto\n",
      "                  629e019a6f298a83aeecc7877964f935\n",
      "                  auto\n",
      "                  a659cb33082b851fb87a33af8f0fff29\n",
      "                  auto\n",
      "None\n"
     ]
    }
   ],
   "source": [
    "recom = recommendation_sampling(model = final_model2)\n",
    "#print(recom.recommendation_for_user(2))\n",
    "print(recom.recommendation_for_user('698e1cf81d01a3d389d96145f7fa6df8', user_features=user_to_feature_interaction))"
   ]
  },
  {
   "cell_type": "markdown",
   "metadata": {},
   "source": [
    "> Based on the results above, model1 is tending to suggest popular items, while model2 is suggesting very similar items to what has already been purchased. One positive for model2 is that it is suggesting different products in the same category. This would be favorable to help customers discover what other items there are that are similar to ones already purchased. "
   ]
  },
  {
   "cell_type": "markdown",
   "metadata": {},
   "source": [
    "### More tests"
   ]
  },
  {
   "cell_type": "markdown",
   "metadata": {
    "scrolled": true
   },
   "source": [
    "__Test for customer_id = '02ce431b0797023384d47edad5dd7284'__"
   ]
  },
  {
   "cell_type": "code",
   "execution_count": 102,
   "metadata": {},
   "outputs": [
    {
     "name": "stdout",
     "output_type": "stream",
     "text": [
      "User 02ce431b0797023384d47edad5dd7284\n",
      "     Known positives:\n",
      "                  893b9464c6ab7f700148fe9db838b6b4\n",
      "                  stationery\n",
      "     Recommended:\n",
      "                  43423cdffde7fda63d0414ed38c11a73\n",
      "                  watches_gifts\n",
      "                  2ffdf10e724b958c0f7ea69e97d32f64\n",
      "                  watches_gifts\n",
      "                  e0d64dcfaa3b6db5c54ca298ae101d05\n",
      "                  watches_gifts\n"
     ]
    }
   ],
   "source": [
    "recom = recommendation_sampling(model = final_model1)\n",
    "#print(recom.recommendation_for_user(2))\n",
    "recom.recommendation_for_user('02ce431b0797023384d47edad5dd7284')"
   ]
  },
  {
   "cell_type": "code",
   "execution_count": 103,
   "metadata": {},
   "outputs": [
    {
     "name": "stdout",
     "output_type": "stream",
     "text": [
      "User 02ce431b0797023384d47edad5dd7284\n",
      "     Known positives:\n",
      "                  893b9464c6ab7f700148fe9db838b6b4\n",
      "                  stationery\n",
      "     Recommended:\n",
      "                  fb55982be901439613a95940feefd9ee\n",
      "                  stationery\n",
      "                  e03102efbc2229024c89be731f0aedcb\n",
      "                  stationery\n",
      "                  c706d50b57c9e83293c2586d01f32445\n",
      "                  stationery\n"
     ]
    }
   ],
   "source": [
    "recom = recommendation_sampling(model = final_model2)\n",
    "#print(recom.recommendation_for_user(2))\n",
    "recom.recommendation_for_user('02ce431b0797023384d47edad5dd7284', user_features=user_to_feature_interaction)"
   ]
  },
  {
   "cell_type": "markdown",
   "metadata": {},
   "source": [
    "__Test for customer_id = '059907a512be8ac75b50cbcf6f837d18'__"
   ]
  },
  {
   "cell_type": "code",
   "execution_count": 105,
   "metadata": {},
   "outputs": [
    {
     "name": "stdout",
     "output_type": "stream",
     "text": [
      "User 059907a512be8ac75b50cbcf6f837d18\n",
      "     Known positives:\n",
      "                  2b2428ab65b564c08fd9b40e187df246\n",
      "                  drinks\n",
      "     Recommended:\n",
      "                  4520766ec412348b8d4caa5e8a18c464\n",
      "                  auto\n",
      "                  b4f9530c931398e215242293c2c8ba4c\n",
      "                  fixed_telephony\n",
      "                  bd6e8cf9fe4122c385da2bcb9f979d5d\n",
      "                  telephony\n"
     ]
    }
   ],
   "source": [
    "# 059907a512be8ac75b50cbcf6f837d18\n",
    "recom = recommendation_sampling(model = final_model1)\n",
    "#print(recom.recommendation_for_user(2))\n",
    "recom.recommendation_for_user('059907a512be8ac75b50cbcf6f837d18')"
   ]
  },
  {
   "cell_type": "code",
   "execution_count": 106,
   "metadata": {},
   "outputs": [
    {
     "name": "stdout",
     "output_type": "stream",
     "text": [
      "User 059907a512be8ac75b50cbcf6f837d18\n",
      "     Known positives:\n",
      "                  2b2428ab65b564c08fd9b40e187df246\n",
      "                  drinks\n",
      "     Recommended:\n",
      "                  0aabfb375647d9738ad0f7b4ea3653b1\n",
      "                  consoles_games\n",
      "                  d017a2151d543a9885604dc62a3d9dcc\n",
      "                  fashion_bags_accessories\n",
      "                  4fe644d766c7566dbc46fb851363cb3b\n",
      "                  art\n"
     ]
    }
   ],
   "source": [
    "recom = recommendation_sampling(model = final_model2)\n",
    "#print(recom.recommendation_for_user(2))\n",
    "recom.recommendation_for_user('059907a512be8ac75b50cbcf6f837d18', user_features=user_to_feature_interaction)"
   ]
  },
  {
   "cell_type": "markdown",
   "metadata": {},
   "source": [
    "__Test for customer_id = '0848ef3901afaa99199cbe1bbbd71e1a'__"
   ]
  },
  {
   "cell_type": "code",
   "execution_count": 108,
   "metadata": {},
   "outputs": [
    {
     "name": "stdout",
     "output_type": "stream",
     "text": [
      "User 0848ef3901afaa99199cbe1bbbd71e1a\n",
      "     Known positives:\n",
      "                  cba54528d3adcef3c12d8e8b9a48bc17\n",
      "                  bed_bath_table\n",
      "     Recommended:\n",
      "                  a0fe1efb855f3e786f0650268cd77f44\n",
      "                  agro_industry_and_commerce\n",
      "                  1a300f482e35d7eac74b229be067aefd\n",
      "                  computers_accessories\n",
      "                  466d263ce8b7bd275003ee2104428127\n",
      "                  telephony\n"
     ]
    }
   ],
   "source": [
    "recom = recommendation_sampling(model = final_model1)\n",
    "#print(recom.recommendation_for_user(2))\n",
    "recom.recommendation_for_user('0848ef3901afaa99199cbe1bbbd71e1a')"
   ]
  },
  {
   "cell_type": "code",
   "execution_count": 109,
   "metadata": {},
   "outputs": [
    {
     "name": "stdout",
     "output_type": "stream",
     "text": [
      "User 0848ef3901afaa99199cbe1bbbd71e1a\n",
      "     Known positives:\n",
      "                  cba54528d3adcef3c12d8e8b9a48bc17\n",
      "                  bed_bath_table\n",
      "     Recommended:\n",
      "                  99a4788cb24856965c36a24e339b6058\n",
      "                  bed_bath_table\n",
      "                  06edb72f1e0c64b14c5b79353f7abea3\n",
      "                  bed_bath_table\n",
      "                  ec2d43cc59763ec91694573b31f1c29a\n",
      "                  bed_bath_table\n"
     ]
    }
   ],
   "source": [
    "recom = recommendation_sampling(model = final_model2)\n",
    "#print(recom.recommendation_for_user(2))\n",
    "recom.recommendation_for_user('0848ef3901afaa99199cbe1bbbd71e1a', user_features=user_to_feature_interaction)"
   ]
  },
  {
   "cell_type": "markdown",
   "metadata": {},
   "source": [
    "__Test for customer_id = '1bbd9a63db6ed2bb12623de2b1ceb7c3'__"
   ]
  },
  {
   "cell_type": "code",
   "execution_count": 120,
   "metadata": {},
   "outputs": [
    {
     "name": "stdout",
     "output_type": "stream",
     "text": [
      "User 1bbd9a63db6ed2bb12623de2b1ceb7c3\n",
      "     Known positives:\n",
      "                  a54244559e62c8ef2939e52189d65d4c\n",
      "                  food_drink\n",
      "     Recommended:\n",
      "                  e070a61270050c4b1b704300f331cca6\n",
      "                  pet_shop\n",
      "                  d0b61bfb1de832b15ba9d266ca96e5b0\n",
      "                  pet_shop\n",
      "                  a5ae8400fc9fcacd4af585a57bbf264a\n",
      "                  pet_shop\n"
     ]
    }
   ],
   "source": [
    "recom = recommendation_sampling(model = final_model1)\n",
    "#print(recom.recommendation_for_user(2))\n",
    "recom.recommendation_for_user('1bbd9a63db6ed2bb12623de2b1ceb7c3')"
   ]
  },
  {
   "cell_type": "code",
   "execution_count": 121,
   "metadata": {},
   "outputs": [
    {
     "name": "stdout",
     "output_type": "stream",
     "text": [
      "User 1bbd9a63db6ed2bb12623de2b1ceb7c3\n",
      "     Known positives:\n",
      "                  a54244559e62c8ef2939e52189d65d4c\n",
      "                  food_drink\n",
      "     Recommended:\n",
      "                  d017a2151d543a9885604dc62a3d9dcc\n",
      "                  fashion_bags_accessories\n",
      "                  c6dd917a0be2a704582055949915ab32\n",
      "                  cool_stuff\n",
      "                  601a360bd2a916ecef0e88de72a6531a\n",
      "                  cool_stuff\n"
     ]
    }
   ],
   "source": [
    "recom = recommendation_sampling(model = final_model2)\n",
    "#print(recom.recommendation_for_user(2))\n",
    "recom.recommendation_for_user('1bbd9a63db6ed2bb12623de2b1ceb7c3', user_features=user_to_feature_interaction)"
   ]
  },
  {
   "cell_type": "markdown",
   "metadata": {},
   "source": [
    "__Test for customer_id = '37b5ae93bb8e35c742a4bcd701395daa'__"
   ]
  },
  {
   "cell_type": "code",
   "execution_count": 123,
   "metadata": {},
   "outputs": [
    {
     "name": "stdout",
     "output_type": "stream",
     "text": [
      "User 37b5ae93bb8e35c742a4bcd701395daa\n",
      "     Known positives:\n",
      "                  c6dd917a0be2a704582055949915ab32\n",
      "                  cool_stuff\n",
      "     Recommended:\n",
      "                  389d119b48cf3043d311335e499d9c6b\n",
      "                  garden_tools\n",
      "                  368c6c730842d78016ad823897a372db\n",
      "                  garden_tools\n",
      "                  422879e10f46682990de24d770e7f83d\n",
      "                  garden_tools\n"
     ]
    }
   ],
   "source": [
    "recom = recommendation_sampling(model = final_model1)\n",
    "#print(recom.recommendation_for_user(2))\n",
    "recom.recommendation_for_user('37b5ae93bb8e35c742a4bcd701395daa')"
   ]
  },
  {
   "cell_type": "code",
   "execution_count": 124,
   "metadata": {},
   "outputs": [
    {
     "name": "stdout",
     "output_type": "stream",
     "text": [
      "User 37b5ae93bb8e35c742a4bcd701395daa\n",
      "     Known positives:\n",
      "                  c6dd917a0be2a704582055949915ab32\n",
      "                  cool_stuff\n",
      "     Recommended:\n",
      "                  f35927953ed82e19d06ad3aac2f06353\n",
      "                  books_general_interest\n",
      "                  5d66715cc928aadd0074f61332698593\n",
      "                  electronics\n",
      "                  6a8631b72a2f8729b91514db87e771c0\n",
      "                  electronics\n"
     ]
    }
   ],
   "source": [
    "recom = recommendation_sampling(model = final_model2)\n",
    "#print(recom.recommendation_for_user(2))\n",
    "recom.recommendation_for_user('37b5ae93bb8e35c742a4bcd701395daa', user_features=user_to_feature_interaction)"
   ]
  },
  {
   "cell_type": "markdown",
   "metadata": {},
   "source": [
    "## Summary of Results"
   ]
  },
  {
   "cell_type": "markdown",
   "metadata": {},
   "source": [
    "Our results were mixed for both of the final models. In the end they both displayed a bit of inconsistency, with the best recommendations being products that simply matched what was already purchased. Model1 seemed to generalize more around items that were frequently purchased, possibly bias towards the frequency of the collaborative approach. Model2 tended to suggest items with less dependency on the most bought items and more towards matching what was already purchased.\n",
    "\n",
    "In the end model2 seems to be better suited as our recommendation engine. Using clustering may have given our final model (model2) the ability to recognize latent factors among users and therefore the ability to connect relevant products in a more consistent manner. While this did produce what seemed to be a better performing recommendation engine, there is still some healthy scepticism. It is reasonable to assume that our model is fitting too closely to the cluster ids and not enough to other traits.\n",
    "\n",
    "Our next approach will be to do a last comparison using pysparks ALS recommendation algorithm. This will be compared to the same customers to see what similarities can be found and if we can possibly improve even further with this more simplistic approach. "
   ]
  },
  {
   "cell_type": "code",
   "execution_count": null,
   "metadata": {},
   "outputs": [],
   "source": []
  }
 ],
 "metadata": {
  "kernelspec": {
   "display_name": "Python 3",
   "language": "python",
   "name": "python3"
  },
  "language_info": {
   "codemirror_mode": {
    "name": "ipython",
    "version": 3
   },
   "file_extension": ".py",
   "mimetype": "text/x-python",
   "name": "python",
   "nbconvert_exporter": "python",
   "pygments_lexer": "ipython3",
   "version": "3.8.8"
  }
 },
 "nbformat": 4,
 "nbformat_minor": 2
}
