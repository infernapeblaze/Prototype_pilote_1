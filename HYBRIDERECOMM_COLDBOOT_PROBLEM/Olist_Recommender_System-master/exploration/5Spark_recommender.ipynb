{
 "cells": [
  {
   "cell_type": "markdown",
   "metadata": {},
   "source": [
    "# Spark Recommender System"
   ]
  },
  {
   "cell_type": "markdown",
   "metadata": {},
   "source": [
    "Spark offers a built in ALS recommendation system that we will use to compare against our LightFM model. Unfortunately it does not handle the cold start problem we aimed at solving for, but it does a good job of using collaborative techniques to make a prediction. \n",
    "\n",
    "The algorithm uses alternating least squares as a metric for optimizing predictions of a users preference for an item. How it does it is by taking the original matrix of users and product ratings R, which in our case is the number of times a user bought an item for a given product, and factorizes it into two matrices U and P. When U and P are multiplied back together the empty ratings will be replaced with an estimation. The alternating part of ALS comes from the way the algorithm minimizes least squares error. It will alternate between matrices U and P by fixing one matrix and optimizing for the other and then repeating this process a designated number of times to minimize least squared error. The resulting matrix will have ratings filled in for each product which we can sample from to do a comparison with our LightFM model. We will tune our model by estimating our parameters and iterating until an optimal root mean squared error is achieved. "
   ]
  },
  {
   "cell_type": "code",
   "execution_count": 1,
   "metadata": {},
   "outputs": [],
   "source": [
    "# import necessary modules\n",
    "import os\n",
    "import shutil\n",
    "import pyspark as ps\n",
    "from pyspark.ml import Pipeline, Transformer\n",
    "from pyspark.ml.evaluation import RegressionEvaluator\n",
    "from pyspark.ml.recommendation import ALS, ALSModel\n",
    "from pyspark.sql import Row\n",
    "from pyspark.sql.types import DoubleType"
   ]
  },
  {
   "cell_type": "code",
   "execution_count": 2,
   "metadata": {},
   "outputs": [
    {
     "name": "stdout",
     "output_type": "stream",
     "text": [
      "3.0.0\n"
     ]
    }
   ],
   "source": [
    "# create spark context\n",
    "spark = (ps.sql.SparkSession.builder\n",
    "        .appName(\"sandbox\")\n",
    "        .getOrCreate()\n",
    "        )\n",
    "sc = spark.sparkContext\n",
    "print(spark.version)"
   ]
  },
  {
   "cell_type": "markdown",
   "metadata": {},
   "source": [
    "## Read in Data\n",
    "\n",
    "We will use user clusters as part of user features for our model here. "
   ]
  },
  {
   "cell_type": "code",
   "execution_count": 3,
   "metadata": {},
   "outputs": [],
   "source": [
    "# source data from prior step\n",
    "data_dir = os.path.join(\"modified_data\", \"\")\n",
    "file = os.path.join(data_dir, \"item_features_clustered.csv\")\n",
    "\n",
    "# options are specified to read in data without error\n",
    "df_user = spark.read.format(\"csv\")\\\n",
    "               .option(\"multiline\", \"true\")\\\n",
    "               .option(\"quote\", '\"')\\\n",
    "               .option(\"header\", \"true\")\\\n",
    "               .option(\"escape\", \"\\\\\")\\\n",
    "               .option(\"escape\", '\"')\\\n",
    "               .load(file)"
   ]
  },
  {
   "cell_type": "code",
   "execution_count": 4,
   "metadata": {},
   "outputs": [],
   "source": [
    "# source data from prior step\n",
    "data_dir = os.path.join(\"modified_data\", \"\")\n",
    "file = os.path.join(data_dir, \"item_features.csv\")\n",
    "\n",
    "# options are specified to read in data without error\n",
    "df_item = spark.read.format(\"csv\")\\\n",
    "               .option(\"multiline\", \"true\")\\\n",
    "               .option(\"quote\", '\"')\\\n",
    "               .option(\"header\", \"true\")\\\n",
    "               .option(\"escape\", \"\\\\\")\\\n",
    "               .option(\"escape\", '\"')\\\n",
    "               .load(file)"
   ]
  },
  {
   "cell_type": "markdown",
   "metadata": {},
   "source": [
    "## Create use and item feature matrices"
   ]
  },
  {
   "cell_type": "code",
   "execution_count": 5,
   "metadata": {},
   "outputs": [],
   "source": [
    "user_features = df_user.select(df_user['customer_unique_id'], \n",
    "                               df_user['product_id'], \n",
    "                               df_user['product_category_count'])"
   ]
  },
  {
   "cell_type": "code",
   "execution_count": 6,
   "metadata": {},
   "outputs": [
    {
     "name": "stdout",
     "output_type": "stream",
     "text": [
      "+--------------------+--------------------+----------------------+\n",
      "|  customer_unique_id|          product_id|product_category_count|\n",
      "+--------------------+--------------------+----------------------+\n",
      "|7c396fd4830fd0422...|87285b34884572647...|                     1|\n",
      "|7c396fd4830fd0422...|9abb00920aae319ef...|                     1|\n",
      "|e781fdcc107d13d86...|87285b34884572647...|                     1|\n",
      "|3a51803cc0d012c3b...|87285b34884572647...|                     1|\n",
      "+--------------------+--------------------+----------------------+\n",
      "only showing top 4 rows\n",
      "\n"
     ]
    }
   ],
   "source": [
    "user_features.show(4)"
   ]
  },
  {
   "cell_type": "code",
   "execution_count": 7,
   "metadata": {},
   "outputs": [],
   "source": [
    "user_features = user_features.sort(\"customer_unique_id\")"
   ]
  },
  {
   "cell_type": "code",
   "execution_count": 8,
   "metadata": {},
   "outputs": [],
   "source": [
    "item_features = df_item.select(df_item['product_id'], \n",
    "                               df_item['product_category_name'], \n",
    "                               df_item['avg_price_binned'])"
   ]
  },
  {
   "cell_type": "code",
   "execution_count": 9,
   "metadata": {
    "scrolled": false
   },
   "outputs": [
    {
     "name": "stdout",
     "output_type": "stream",
     "text": [
      "+--------------------+---------------------+----------------+\n",
      "|          product_id|product_category_name|avg_price_binned|\n",
      "+--------------------+---------------------+----------------+\n",
      "|372645c7439f9661f...|       bed_bath_table|   (74.9, 135.0]|\n",
      "|5099f7000472b634f...|        health_beauty|   (0.849, 39.9]|\n",
      "|64b488de448a5324c...|           stationery|    (39.9, 74.9]|\n",
      "|2345a354a6f203360...|            telephony|   (0.849, 39.9]|\n",
      "+--------------------+---------------------+----------------+\n",
      "only showing top 4 rows\n",
      "\n"
     ]
    }
   ],
   "source": [
    "item_features.show(4)"
   ]
  },
  {
   "cell_type": "markdown",
   "metadata": {},
   "source": [
    "## Index user and product ids"
   ]
  },
  {
   "cell_type": "code",
   "execution_count": 10,
   "metadata": {
    "scrolled": false
   },
   "outputs": [
    {
     "name": "stdout",
     "output_type": "stream",
     "text": [
      "+--------------------+--------------+--------------------+-------------+\n",
      "|  customer_unique_id|customer_index|          product_id|product_index|\n",
      "+--------------------+--------------+--------------------+-------------+\n",
      "|0000366f3b9a7992b...|       11614.0|372645c7439f9661f...|        380.0|\n",
      "|0000b849f77a49e4a...|       11615.0|5099f7000472b634f...|       2737.0|\n",
      "|0000f46a3911fa3c0...|       11616.0|64b488de448a5324c...|       4156.0|\n",
      "|0000f6ccb0745a6a4...|       11617.0|2345a354a6f203360...|       6611.0|\n",
      "|0004aac84e0df4da2...|       11618.0|c72e18b3fe2739b8d...|      28356.0|\n",
      "|0004bd2a26a76fe21...|       11619.0|25cf184645f3fae66...|       6625.0|\n",
      "|00050ab1314c0e55a...|       11620.0|8cefe1c6f2304e7e6...|       2384.0|\n",
      "|00053a61a98854899...|        2805.0|62984ea1bba7fcea1...|       5331.0|\n",
      "|00053a61a98854899...|        2805.0|58727e154e8e85d84...|       1357.0|\n",
      "|0005e1862207bf6cc...|       11621.0|e24f73b7631ee3fbb...|        801.0|\n",
      "+--------------------+--------------+--------------------+-------------+\n",
      "only showing top 10 rows\n",
      "\n",
      "+--------------------+-------------+\n",
      "|          product_id|product_index|\n",
      "+--------------------+-------------+\n",
      "|372645c7439f9661f...|        376.0|\n",
      "|5099f7000472b634f...|       2692.0|\n",
      "|64b488de448a5324c...|       4076.0|\n",
      "|2345a354a6f203360...|       6466.0|\n",
      "|c72e18b3fe2739b8d...|      27745.0|\n",
      "|25cf184645f3fae66...|       6480.0|\n",
      "|8cefe1c6f2304e7e6...|       2337.0|\n",
      "|62984ea1bba7fcea1...|       5229.0|\n",
      "|58727e154e8e85d84...|       1329.0|\n",
      "|e24f73b7631ee3fbb...|        937.0|\n",
      "+--------------------+-------------+\n",
      "only showing top 10 rows\n",
      "\n"
     ]
    }
   ],
   "source": [
    "from pyspark.ml.feature import StringIndexer\n",
    "\n",
    "# create object of StringIndexer class and specify input and output column\n",
    "SI_customer = StringIndexer(inputCol='customer_unique_id',outputCol='customer_index')\n",
    "SI_product = StringIndexer(inputCol='product_id',outputCol='product_index')\n",
    "\n",
    "# transform the data\n",
    "user_features = SI_customer.fit(user_features).transform(user_features)\n",
    "user_features = SI_product.fit(user_features).transform(user_features)\n",
    "item_features = SI_product.fit(item_features).transform(item_features)\n",
    "\n",
    "# view the transformed data\n",
    "user_features.select('customer_unique_id', 'customer_index', 'product_id', 'product_index').show(10)\n",
    "item_features.select('product_id', 'product_index').show(10)"
   ]
  },
  {
   "cell_type": "code",
   "execution_count": 11,
   "metadata": {},
   "outputs": [],
   "source": [
    "from pyspark.sql.types import IntegerType\n",
    "# convert columns to integer types\n",
    "user_features = user_features.withColumn(\"product_category_count\",\n",
    "                                        user_features[\"product_category_count\"].cast(IntegerType()))"
   ]
  },
  {
   "cell_type": "markdown",
   "metadata": {},
   "source": [
    "## Model Training"
   ]
  },
  {
   "cell_type": "code",
   "execution_count": 12,
   "metadata": {},
   "outputs": [],
   "source": [
    "# split 80-20\n",
    "(training, test) = user_features.randomSplit([0.8, 0.2])"
   ]
  },
  {
   "cell_type": "code",
   "execution_count": 13,
   "metadata": {},
   "outputs": [
    {
     "name": "stdout",
     "output_type": "stream",
     "text": [
      "Root-mean-squared-error = 0.273\n"
     ]
    }
   ],
   "source": [
    "# train the recommender with als\n",
    "als_alg = ALS(maxIter=5, \n",
    "              regParam=0.01, \n",
    "              userCol='customer_index', \n",
    "              itemCol=\"product_index\", \n",
    "              ratingCol='product_category_count',\n",
    "              coldStartStrategy='drop', \n",
    "              seed = 3)\n",
    "\n",
    "model=als_alg.fit(training)\n",
    "\n",
    "# evaluate with the holdout set\n",
    "predictions = model.transform(test)\n",
    "evaluator = RegressionEvaluator(metricName='rmse',\n",
    "                                labelCol='product_category_count',\n",
    "                                predictionCol='prediction')\n",
    "rmse = evaluator.evaluate(predictions)\n",
    "\n",
    "print(\"Root-mean-squared-error = \" + str(round(rmse, 3)))"
   ]
  },
  {
   "cell_type": "markdown",
   "metadata": {},
   "source": [
    "## Generate user and product recommendations\n",
    "\n",
    "These can be sampled from to output predictions for specific users."
   ]
  },
  {
   "cell_type": "code",
   "execution_count": 14,
   "metadata": {},
   "outputs": [
    {
     "name": "stdout",
     "output_type": "stream",
     "text": [
      "+--------------+--------------------+\n",
      "|customer_index|     recommendations|\n",
      "+--------------+--------------------+\n",
      "|           148|[[507, 6.7362304]...|\n",
      "|           463|[[956, 5.002464],...|\n",
      "|           471|[[901, 8.583217],...|\n",
      "|           496|[[352, 19.671946]...|\n",
      "+--------------+--------------------+\n",
      "only showing top 4 rows\n",
      "\n"
     ]
    }
   ],
   "source": [
    "# generate top 5 product recommendations for user\n",
    "user_recs = model.recommendForAllUsers(5)\n",
    "user_recs.show(4)"
   ]
  },
  {
   "cell_type": "code",
   "execution_count": 15,
   "metadata": {},
   "outputs": [
    {
     "name": "stdout",
     "output_type": "stream",
     "text": [
      "+-------------+--------------------+\n",
      "|product_index|     recommendations|\n",
      "+-------------+--------------------+\n",
      "|          148|[[348, 10.787726]...|\n",
      "|          463|[[447, 11.842729]...|\n",
      "|          471|[[100, 5.606615],...|\n",
      "|          496|[[93, 9.08362], [...|\n",
      "|          833|[[708, 13.14601],...|\n",
      "|         1088|[[348, 8.86548], ...|\n",
      "|         1238|[[93, 8.416886], ...|\n",
      "|         1342|[[227, 10.962105]...|\n",
      "|         1580|[[348, 8.376414],...|\n",
      "|         1591|[[348, 11.388984]...|\n",
      "|         1645|[[98, 7.9219284],...|\n",
      "|         1829|[[708, 8.222495],...|\n",
      "|         1959|[[93, 9.122136], ...|\n",
      "|         2122|[[386, 7.2687736]...|\n",
      "|         2142|[[62, 5.9342213],...|\n",
      "|         2366|[[348, 9.065077],...|\n",
      "|         2659|[[348, 13.379322]...|\n",
      "|         2866|[[348, 12.944078]...|\n",
      "|         3175|[[55, 9.250828], ...|\n",
      "|         3749|[[55, 5.104551], ...|\n",
      "+-------------+--------------------+\n",
      "only showing top 20 rows\n",
      "\n"
     ]
    }
   ],
   "source": [
    "product_recs = model.recommendForAllItems(10)\n",
    "product_recs.show()"
   ]
  },
  {
   "cell_type": "code",
   "execution_count": 16,
   "metadata": {},
   "outputs": [
    {
     "name": "stdout",
     "output_type": "stream",
     "text": [
      "+--------------+--------------------+\n",
      "|customer_index|     recommendations|\n",
      "+--------------+--------------------+\n",
      "|         11757|[[1757, 2.2729402...|\n",
      "|           558|[[596, 27.327358]...|\n",
      "|          2815|[[366, 2.5956264]...|\n",
      "+--------------+--------------------+\n",
      "\n"
     ]
    }
   ],
   "source": [
    "users = user_features.select(als_alg.getUserCol()).distinct().limit(3)\n",
    "user_subset_recs = model.recommendForUserSubset(users, 10)\n",
    "user_subset_recs.show(n=4)"
   ]
  },
  {
   "cell_type": "markdown",
   "metadata": {},
   "source": [
    "### Parameter Tuning"
   ]
  },
  {
   "cell_type": "code",
   "execution_count": 18,
   "metadata": {},
   "outputs": [],
   "source": [
    "# Import the required functions\n",
    "from pyspark.ml.evaluation import RegressionEvaluator\n",
    "from pyspark.ml.recommendation import ALS\n",
    "from pyspark.ml.tuning import ParamGridBuilder, CrossValidator"
   ]
  },
  {
   "cell_type": "code",
   "execution_count": 19,
   "metadata": {},
   "outputs": [],
   "source": [
    "# train the recommender with als\n",
    "als = ALS(maxIter=5, \n",
    "              regParam=0.01, \n",
    "              userCol='customer_index', \n",
    "              itemCol=\"product_index\", \n",
    "              ratingCol='product_category_count',\n",
    "              coldStartStrategy='drop')"
   ]
  },
  {
   "cell_type": "code",
   "execution_count": 20,
   "metadata": {},
   "outputs": [],
   "source": [
    "# Import the requisite packages\n",
    "from pyspark.ml.tuning import ParamGridBuilder, CrossValidator\n",
    "from pyspark.ml.evaluation import RegressionEvaluator\n",
    "\n",
    "# Add hyperparameters and their respective values to param_grid\n",
    "param_grid = ParamGridBuilder() \\\n",
    "            .addGrid(als.rank, [10, 50, 100, 150]) \\\n",
    "            .addGrid(als.regParam, [.01, .05, .1, .15]) \\\n",
    "            .build()"
   ]
  },
  {
   "cell_type": "code",
   "execution_count": 21,
   "metadata": {},
   "outputs": [
    {
     "name": "stdout",
     "output_type": "stream",
     "text": [
      "Num models to be tested:  16\n"
     ]
    }
   ],
   "source": [
    "evaluator = RegressionEvaluator(\n",
    "           metricName=\"rmse\", \n",
    "           labelCol=\"product_category_count\", \n",
    "           predictionCol=\"prediction\") \n",
    "print (\"Num models to be tested: \", len(param_grid))"
   ]
  },
  {
   "cell_type": "code",
   "execution_count": 22,
   "metadata": {},
   "outputs": [],
   "source": [
    "# Build cross validation using CrossValidator\n",
    "cv = CrossValidator(estimator=als, estimatorParamMaps=param_grid, evaluator=evaluator, numFolds=5)"
   ]
  },
  {
   "cell_type": "code",
   "execution_count": 23,
   "metadata": {},
   "outputs": [
    {
     "name": "stdout",
     "output_type": "stream",
     "text": [
      "0.25907724967729984\n"
     ]
    }
   ],
   "source": [
    "#Fit cross validator to the 'train' dataset\n",
    "model = cv.fit(training)\n",
    "#Extract best model from the cv model above\n",
    "best_model = model.bestModel\n",
    "# View the predictions\n",
    "test_predictions = best_model.transform(test)\n",
    "RMSE = evaluator.evaluate(test_predictions)\n",
    "print(RMSE)"
   ]
  },
  {
   "cell_type": "code",
   "execution_count": 24,
   "metadata": {},
   "outputs": [
    {
     "name": "stdout",
     "output_type": "stream",
     "text": [
      "**Best Model**\n",
      "  Rank: 150\n",
      "  MaxIter: 5\n",
      "  RegParam: 0.05\n"
     ]
    }
   ],
   "source": [
    "print(\"**Best Model**\")\n",
    "# Print \"Rank\"\n",
    "print(\"  Rank:\", best_model._java_obj.parent().getRank())\n",
    "# Print \"MaxIter\"\n",
    "print(\"  MaxIter:\", best_model._java_obj.parent().getMaxIter())\n",
    "# Print \"RegParam\"\n",
    "print(\"  RegParam:\", best_model._java_obj.parent().getRegParam())"
   ]
  },
  {
   "cell_type": "code",
   "execution_count": 25,
   "metadata": {},
   "outputs": [
    {
     "name": "stdout",
     "output_type": "stream",
     "text": [
      "+--------------+--------------------+\n",
      "|customer_index|     recommendations|\n",
      "+--------------+--------------------+\n",
      "|           148|[[1358, 5.983632]...|\n",
      "|           463|[[586, 5.0032835]...|\n",
      "|           471|[[353, 4.9666333]...|\n",
      "|           496|[[14701, 3.994572...|\n",
      "|           833|[[5976, 3.981684]...|\n",
      "|          1088|[[8835, 4.0529366...|\n",
      "|          1238|[[19280, 1.956733...|\n",
      "|          1342|[[3733, 2.9766014...|\n",
      "|          1580|[[2116, 2.9813814...|\n",
      "|          1591|[[30130, 3.586678...|\n",
      "|          1645|[[8578, 2.9761343...|\n",
      "|          1829|[[8550, 2.9761338...|\n",
      "|          1959|[[23256, 3.067747...|\n",
      "|          2122|[[460, 1.9372059]...|\n",
      "|          2142|[[13069, 3.092081...|\n",
      "|          2366|[[23114, 3.457238...|\n",
      "|          2659|[[1923, 2.969991]...|\n",
      "|          2866|[[678, 3.32295], ...|\n",
      "|          3175|[[3776, 1.9789387...|\n",
      "|          3749|[[5388, 1.3674556...|\n",
      "+--------------+--------------------+\n",
      "only showing top 20 rows\n",
      "\n"
     ]
    }
   ],
   "source": [
    "# Generate n Recommendations for all users\n",
    "recommendations = best_model.recommendForAllUsers(5)\n",
    "recommendations.show()"
   ]
  },
  {
   "cell_type": "markdown",
   "metadata": {},
   "source": [
    "### Re-run model for all users"
   ]
  },
  {
   "cell_type": "code",
   "execution_count": 26,
   "metadata": {},
   "outputs": [],
   "source": [
    "# train the recommender with als\n",
    "als_alg = ALS(rank=best_model._java_obj.parent().getRank(),\n",
    "              maxIter=best_model._java_obj.parent().getMaxIter(), \n",
    "              regParam=best_model._java_obj.parent().getRegParam(), \n",
    "              userCol='customer_index', \n",
    "              itemCol=\"product_index\", \n",
    "              ratingCol='product_category_count',\n",
    "              coldStartStrategy='drop')\n",
    "\n",
    "final_model=als_alg.fit(user_features)"
   ]
  },
  {
   "cell_type": "code",
   "execution_count": 27,
   "metadata": {},
   "outputs": [
    {
     "name": "stdout",
     "output_type": "stream",
     "text": [
      "+--------------+--------------------+\n",
      "|customer_index|     recommendations|\n",
      "+--------------+--------------------+\n",
      "|           148|[[1358, 5.9854245...|\n",
      "|           463|[[586, 5.0025682]...|\n",
      "|           471|[[353, 4.9697766]...|\n",
      "|           496|[[14701, 3.999740...|\n",
      "+--------------+--------------------+\n",
      "only showing top 4 rows\n",
      "\n"
     ]
    }
   ],
   "source": [
    "# generate top_n product recommendations for user\n",
    "nrecommend = 5\n",
    "user_recs = final_model.recommendForAllUsers(nrecommend)\n",
    "user_recs.show(4)"
   ]
  },
  {
   "cell_type": "code",
   "execution_count": 28,
   "metadata": {},
   "outputs": [],
   "source": [
    "recs = user_recs.toPandas()"
   ]
  },
  {
   "cell_type": "markdown",
   "metadata": {},
   "source": [
    "## Recommender Function"
   ]
  },
  {
   "cell_type": "code",
   "execution_count": 29,
   "metadata": {},
   "outputs": [],
   "source": [
    "# Generate pandas df for accessing products in recommender function\n",
    "products = item_features.toPandas()"
   ]
  },
  {
   "cell_type": "code",
   "execution_count": 32,
   "metadata": {},
   "outputs": [],
   "source": [
    "user_features_df = user_features.toPandas()"
   ]
  },
  {
   "cell_type": "code",
   "execution_count": 33,
   "metadata": {},
   "outputs": [],
   "source": [
    "def user_recommendations(user_id, top_n = 3):\n",
    "    \n",
    "    if top_n > nrecommend:\n",
    "        print(\"Please select up to {} items to recommend\".format(nrecommend))\n",
    "        return; \n",
    "    \n",
    "    prior_purchases = user_features_df[user_features_df['customer_unique_id'] == user_id]\\\n",
    "                                                                                        ['product_id'].unique()\n",
    "    num_items = len(prior_purchases)\n",
    "    \n",
    "    if num_items < 3:\n",
    "        items = num_items\n",
    "    else:\n",
    "        items = 3\n",
    "    \n",
    "    print(\"User: {}\\n\".format(user_id))\n",
    "    print(\"Known positives: \")\n",
    "    for n in range(items):\n",
    "        known_like_product = user_features_df[user_features_df['customer_unique_id'] == user_id]\\\n",
    "                                                            ['product_id'].unique()[n]\n",
    "        known_like_category = products[products['product_id'] == known_like_product]\\\n",
    "                                                            ['product_category_name'].unique()[0]\n",
    "    \n",
    "        print(\"\\t\", known_like_product)\n",
    "        print(\"\\t\", known_like_category, \"\\n\")\n",
    "    \n",
    "    \n",
    "    customer_index = user_features_df[user_features_df['customer_unique_id'] == user_id]\\\n",
    "                                                            ['customer_index'].unique()[0]\n",
    "    print(\"Top {} Recommendations: \\n\".format(top_n))\n",
    "    rec_products = []\n",
    "    \n",
    "    for n in range(top_n):\n",
    "        \n",
    "        rec_products.append(list(recs[recs['customer_index'] == customer_index]['recommendations'])[0][n][0])\n",
    "        \n",
    "        print(\"{}.\\n\".format(n+1), products[products['product_index'] == rec_products[n]]\\\n",
    "                                                  [['product_id', 'product_category_name']].iloc[0][0])\n",
    "        \n",
    "        print(products[products['product_index'] == rec_products[n]]\\\n",
    "                                                  [['product_id', 'product_category_name']].iloc[0][1])"
   ]
  },
  {
   "cell_type": "markdown",
   "metadata": {},
   "source": [
    "__Test for customer_id = 'c8ed31310fc440a3f8031b177f9842c3'__"
   ]
  },
  {
   "cell_type": "code",
   "execution_count": 34,
   "metadata": {},
   "outputs": [
    {
     "name": "stdout",
     "output_type": "stream",
     "text": [
      "User: c8ed31310fc440a3f8031b177f9842c3\n",
      "\n",
      "Known positives: \n",
      "\t 1065e0ebef073787a7bf691924c60eeb\n",
      "\t construction_tools_construction \n",
      "\n",
      "\t 0cf2faf9749f53924cea652a09d8e327\n",
      "\t construction_tools_construction \n",
      "\n",
      "\t 309dd69eb83cea38c51709d62befe1a4\n",
      "\t construction_tools_construction \n",
      "\n",
      "Top 5 Recommendations: \n",
      "\n",
      "1.\n",
      " 15b1f9b06d0e709552d7d8638387e09b\n",
      "furniture_decor\n",
      "2.\n",
      " 7189fb70393a0b87189f93f19655f8db\n",
      "toys\n",
      "3.\n",
      " 3e7ec3672e5549ba74cf635752bfc70b\n",
      "furniture_decor\n",
      "4.\n",
      " 14ad6805c263d8d758d648f46a06570e\n",
      "baby\n",
      "5.\n",
      " 329c661807f085964b1877bfeca6ff73\n",
      "furniture_decor\n"
     ]
    }
   ],
   "source": [
    "user_recommendations('c8ed31310fc440a3f8031b177f9842c3', top_n=5)"
   ]
  },
  {
   "cell_type": "markdown",
   "metadata": {},
   "source": [
    "__Test for customer_id = '698e1cf81d01a3d389d96145f7fa6df8'__"
   ]
  },
  {
   "cell_type": "code",
   "execution_count": 35,
   "metadata": {},
   "outputs": [
    {
     "name": "stdout",
     "output_type": "stream",
     "text": [
      "User: 698e1cf81d01a3d389d96145f7fa6df8\n",
      "\n",
      "Known positives: \n",
      "\t 9571759451b1d780ee7c15012ea109d4\n",
      "\t auto \n",
      "\n",
      "Top 5 Recommendations: \n",
      "\n",
      "1.\n",
      " 0a4f9f421af66d2ea061fbb8883419f7\n",
      "health_beauty\n",
      "2.\n",
      " fdd84aefb08c8f8225e0b8c97429d53b\n",
      "health_beauty\n",
      "3.\n",
      " 12485f9cdebb6ca179826ede539554ad\n",
      "air_conditioning\n",
      "4.\n",
      " 616042729c11849827291496b18e9ec5\n",
      "sports_leisure\n",
      "5.\n",
      " 7a5c07212703b5f01ee199d29a29a587\n",
      "cool_stuff\n"
     ]
    }
   ],
   "source": [
    "user_recommendations('698e1cf81d01a3d389d96145f7fa6df8', top_n=5)"
   ]
  },
  {
   "cell_type": "markdown",
   "metadata": {},
   "source": [
    "__Test for customer_id = '89be58cbdd6ef318e3ed93fdb22be178'__"
   ]
  },
  {
   "cell_type": "code",
   "execution_count": 36,
   "metadata": {},
   "outputs": [
    {
     "name": "stdout",
     "output_type": "stream",
     "text": [
      "User: 89be58cbdd6ef318e3ed93fdb22be178\n",
      "\n",
      "Known positives: \n",
      "\t 3fdb534dccf5bc9ab0406944b913787d\n",
      "\t diapers_and_hygiene \n",
      "\n",
      "Top 5 Recommendations: \n",
      "\n",
      "1.\n",
      " 779dd392d4fbe5ca656bf3ceabecbf0b\n",
      "construction_tools_construction\n",
      "2.\n",
      " bdcf6a834e8faa30dac3886c7a58e92e\n",
      "health_beauty\n",
      "3.\n",
      " 91b08d34d0ba4db44da2dc382867ba49\n",
      "telephony\n",
      "4.\n",
      " 1b8ee158f59c098470fad33f39660964\n",
      "furniture_living_room\n",
      "5.\n",
      " d9339c5714743c460a9470730f79f6c5\n",
      "computers_accessories\n"
     ]
    }
   ],
   "source": [
    "user_recommendations('89be58cbdd6ef318e3ed93fdb22be178', top_n=5)"
   ]
  },
  {
   "cell_type": "markdown",
   "metadata": {},
   "source": [
    "## Summary of Results"
   ]
  },
  {
   "cell_type": "markdown",
   "metadata": {},
   "source": [
    "It's clear after producing a simple recommendation system with matrix factorization using only users prior purchase history that this dataset simply does not have the data necessary to give accurate results. Many of the attempted recommendations produced results that are clearly not relevant for the user. As can be seen in the suggestions above, many of the top items are from categories very different from the original purchase. \n",
    "\n",
    "Comparing these same recommendations with LightFM shows how well hybrid recommenders can do for data sets like this one, with very few return users. "
   ]
  },
  {
   "cell_type": "code",
   "execution_count": null,
   "metadata": {},
   "outputs": [],
   "source": []
  }
 ],
 "metadata": {
  "kernelspec": {
   "display_name": "Python 3",
   "language": "python",
   "name": "python3"
  },
  "language_info": {
   "codemirror_mode": {
    "name": "ipython",
    "version": 3
   },
   "file_extension": ".py",
   "mimetype": "text/x-python",
   "name": "python",
   "nbconvert_exporter": "python",
   "pygments_lexer": "ipython3",
   "version": "3.8.8"
  }
 },
 "nbformat": 4,
 "nbformat_minor": 2
}
